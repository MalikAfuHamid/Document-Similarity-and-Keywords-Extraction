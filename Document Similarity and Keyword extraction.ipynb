{
 "cells": [
  {
   "cell_type": "markdown",
   "id": "956d24b8",
   "metadata": {},
   "source": [
    "# 1. Import Libraries"
   ]
  },
  {
   "cell_type": "code",
   "execution_count": 1,
   "id": "017585ab",
   "metadata": {},
   "outputs": [],
   "source": [
    "import numpy as np\n",
    "import pandas as pd\n",
    "import seaborn as sns\n",
    "import matplotlib.pyplot as plt\n",
    "\n",
    "from nltk.tokenize import word_tokenize\n",
    "from nltk.corpus import stopwords\n",
    "from string import punctuation\n",
    "from jcopml.plot import plot_missing_value\n",
    "\n",
    "sw_indo = stopwords.words('indonesian') \n",
    "import string\n",
    "\n",
    "import seaborn as sns"
   ]
  },
  {
   "cell_type": "markdown",
   "id": "fff94fd5",
   "metadata": {},
   "source": [
    "# 2. Import Dataset"
   ]
  },
  {
   "cell_type": "code",
   "execution_count": 2,
   "id": "54cd70c9",
   "metadata": {},
   "outputs": [
    {
     "data": {
      "text/html": [
       "<div>\n",
       "<style scoped>\n",
       "    .dataframe tbody tr th:only-of-type {\n",
       "        vertical-align: middle;\n",
       "    }\n",
       "\n",
       "    .dataframe tbody tr th {\n",
       "        vertical-align: top;\n",
       "    }\n",
       "\n",
       "    .dataframe thead th {\n",
       "        text-align: right;\n",
       "    }\n",
       "</style>\n",
       "<table border=\"1\" class=\"dataframe\">\n",
       "  <thead>\n",
       "    <tr style=\"text-align: right;\">\n",
       "      <th></th>\n",
       "      <th>teks</th>\n",
       "    </tr>\n",
       "  </thead>\n",
       "  <tbody>\n",
       "    <tr>\n",
       "      <th>0</th>\n",
       "      <td>Ginandjar Tetap Ditahan. Jaksa Agung Dilaporka...</td>\n",
       "    </tr>\n",
       "    <tr>\n",
       "      <th>1</th>\n",
       "      <td>Jakarta Dikangkangi Para Preman\\nKALAU tak pun...</td>\n",
       "    </tr>\n",
       "    <tr>\n",
       "      <th>2</th>\n",
       "      <td>Penyimpangan di Setpres Seolah Terjadi Sekaran...</td>\n",
       "    </tr>\n",
       "    <tr>\n",
       "      <th>3</th>\n",
       "      <td>Dibayarkan, Rapel Kenaikan Gaji Pegawai Pos\\nK...</td>\n",
       "    </tr>\n",
       "    <tr>\n",
       "      <th>4</th>\n",
       "      <td>Stop Kekerasan, Elite agar Duduk Bersama\\nSeju...</td>\n",
       "    </tr>\n",
       "  </tbody>\n",
       "</table>\n",
       "</div>"
      ],
      "text/plain": [
       "                                                teks\n",
       "0  Ginandjar Tetap Ditahan. Jaksa Agung Dilaporka...\n",
       "1  Jakarta Dikangkangi Para Preman\\nKALAU tak pun...\n",
       "2  Penyimpangan di Setpres Seolah Terjadi Sekaran...\n",
       "3  Dibayarkan, Rapel Kenaikan Gaji Pegawai Pos\\nK...\n",
       "4  Stop Kekerasan, Elite agar Duduk Bersama\\nSeju..."
      ]
     },
     "execution_count": 2,
     "metadata": {},
     "output_type": "execute_result"
    }
   ],
   "source": [
    "df = pd.read_csv('kompas.csv')\n",
    "df.head()"
   ]
  },
  {
   "cell_type": "markdown",
   "id": "d3d92b4a",
   "metadata": {},
   "source": [
    "# 3. Exploratory Data Analysis (EDA)"
   ]
  },
  {
   "cell_type": "markdown",
   "id": "1737bb50",
   "metadata": {},
   "source": [
    "### Data Information"
   ]
  },
  {
   "cell_type": "code",
   "execution_count": 3,
   "id": "51dc429c",
   "metadata": {},
   "outputs": [
    {
     "name": "stdout",
     "output_type": "stream",
     "text": [
      "<class 'pandas.core.frame.DataFrame'>\n",
      "RangeIndex: 2008 entries, 0 to 2007\n",
      "Data columns (total 1 columns):\n",
      " #   Column  Non-Null Count  Dtype \n",
      "---  ------  --------------  ----- \n",
      " 0   teks    2008 non-null   object\n",
      "dtypes: object(1)\n",
      "memory usage: 15.8+ KB\n"
     ]
    }
   ],
   "source": [
    "df.info()"
   ]
  },
  {
   "cell_type": "code",
   "execution_count": 4,
   "id": "157051bb",
   "metadata": {},
   "outputs": [
    {
     "data": {
      "text/plain": [
       "(2008, 1)"
      ]
     },
     "execution_count": 4,
     "metadata": {},
     "output_type": "execute_result"
    }
   ],
   "source": [
    "df.shape"
   ]
  },
  {
   "cell_type": "code",
   "execution_count": 5,
   "id": "48f6a283",
   "metadata": {},
   "outputs": [
    {
     "data": {
      "image/png": "[encoded data removed]",
      "text/plain": [
       "<Figure size 1080x576 with 1 Axes>"
      ]
     },
     "metadata": {
      "needs_background": "light"
     },
     "output_type": "display_data"
    }
   ],
   "source": [
    "plot_missing_value(df)"
   ]
  },
  {
   "cell_type": "markdown",
   "id": "9cfb4556",
   "metadata": {},
   "source": [
    "### Data Description"
   ]
  },
  {
   "cell_type": "code",
   "execution_count": 6,
   "id": "bb6a5849",
   "metadata": {},
   "outputs": [
    {
     "data": {
      "text/html": [
       "<div>\n",
       "<style scoped>\n",
       "    .dataframe tbody tr th:only-of-type {\n",
       "        vertical-align: middle;\n",
       "    }\n",
       "\n",
       "    .dataframe tbody tr th {\n",
       "        vertical-align: top;\n",
       "    }\n",
       "\n",
       "    .dataframe thead th {\n",
       "        text-align: right;\n",
       "    }\n",
       "</style>\n",
       "<table border=\"1\" class=\"dataframe\">\n",
       "  <thead>\n",
       "    <tr style=\"text-align: right;\">\n",
       "      <th></th>\n",
       "      <th>teks</th>\n",
       "    </tr>\n",
       "  </thead>\n",
       "  <tbody>\n",
       "    <tr>\n",
       "      <th>0</th>\n",
       "      <td>Ginandjar Tetap Ditahan. Jaksa Agung Dilaporka...</td>\n",
       "    </tr>\n",
       "    <tr>\n",
       "      <th>1</th>\n",
       "      <td>Jakarta Dikangkangi Para Preman\\nKALAU tak pun...</td>\n",
       "    </tr>\n",
       "    <tr>\n",
       "      <th>2</th>\n",
       "      <td>Penyimpangan di Setpres Seolah Terjadi Sekaran...</td>\n",
       "    </tr>\n",
       "    <tr>\n",
       "      <th>3</th>\n",
       "      <td>Dibayarkan, Rapel Kenaikan Gaji Pegawai Pos\\nK...</td>\n",
       "    </tr>\n",
       "    <tr>\n",
       "      <th>4</th>\n",
       "      <td>Stop Kekerasan, Elite agar Duduk Bersama\\nSeju...</td>\n",
       "    </tr>\n",
       "  </tbody>\n",
       "</table>\n",
       "</div>"
      ],
      "text/plain": [
       "                                                teks\n",
       "0  Ginandjar Tetap Ditahan. Jaksa Agung Dilaporka...\n",
       "1  Jakarta Dikangkangi Para Preman\\nKALAU tak pun...\n",
       "2  Penyimpangan di Setpres Seolah Terjadi Sekaran...\n",
       "3  Dibayarkan, Rapel Kenaikan Gaji Pegawai Pos\\nK...\n",
       "4  Stop Kekerasan, Elite agar Duduk Bersama\\nSeju..."
      ]
     },
     "execution_count": 6,
     "metadata": {},
     "output_type": "execute_result"
    }
   ],
   "source": [
    "df.head()"
   ]
  },
  {
   "cell_type": "code",
   "execution_count": 7,
   "id": "34315669",
   "metadata": {},
   "outputs": [
    {
     "data": {
      "text/html": [
       "<div>\n",
       "<style scoped>\n",
       "    .dataframe tbody tr th:only-of-type {\n",
       "        vertical-align: middle;\n",
       "    }\n",
       "\n",
       "    .dataframe tbody tr th {\n",
       "        vertical-align: top;\n",
       "    }\n",
       "\n",
       "    .dataframe thead th {\n",
       "        text-align: right;\n",
       "    }\n",
       "</style>\n",
       "<table border=\"1\" class=\"dataframe\">\n",
       "  <thead>\n",
       "    <tr style=\"text-align: right;\">\n",
       "      <th></th>\n",
       "      <th>teks</th>\n",
       "    </tr>\n",
       "  </thead>\n",
       "  <tbody>\n",
       "    <tr>\n",
       "      <th>count</th>\n",
       "      <td>2008</td>\n",
       "    </tr>\n",
       "    <tr>\n",
       "      <th>unique</th>\n",
       "      <td>2008</td>\n",
       "    </tr>\n",
       "    <tr>\n",
       "      <th>top</th>\n",
       "      <td>Ginandjar Tetap Ditahan. Jaksa Agung Dilaporka...</td>\n",
       "    </tr>\n",
       "    <tr>\n",
       "      <th>freq</th>\n",
       "      <td>1</td>\n",
       "    </tr>\n",
       "  </tbody>\n",
       "</table>\n",
       "</div>"
      ],
      "text/plain": [
       "                                                     teks\n",
       "count                                                2008\n",
       "unique                                               2008\n",
       "top     Ginandjar Tetap Ditahan. Jaksa Agung Dilaporka...\n",
       "freq                                                    1"
      ]
     },
     "execution_count": 7,
     "metadata": {},
     "output_type": "execute_result"
    }
   ],
   "source": [
    "df.describe()"
   ]
  },
  {
   "cell_type": "markdown",
   "id": "b004760a",
   "metadata": {},
   "source": [
    "### Count a Character in Text Message"
   ]
  },
  {
   "cell_type": "code",
   "execution_count": 8,
   "id": "d53baf25",
   "metadata": {},
   "outputs": [
    {
     "data": {
      "text/html": [
       "<div>\n",
       "<style scoped>\n",
       "    .dataframe tbody tr th:only-of-type {\n",
       "        vertical-align: middle;\n",
       "    }\n",
       "\n",
       "    .dataframe tbody tr th {\n",
       "        vertical-align: top;\n",
       "    }\n",
       "\n",
       "    .dataframe thead th {\n",
       "        text-align: right;\n",
       "    }\n",
       "</style>\n",
       "<table border=\"1\" class=\"dataframe\">\n",
       "  <thead>\n",
       "    <tr style=\"text-align: right;\">\n",
       "      <th></th>\n",
       "      <th>teks</th>\n",
       "      <th>Character</th>\n",
       "    </tr>\n",
       "  </thead>\n",
       "  <tbody>\n",
       "    <tr>\n",
       "      <th>0</th>\n",
       "      <td>Ginandjar Tetap Ditahan. Jaksa Agung Dilaporka...</td>\n",
       "      <td>7828</td>\n",
       "    </tr>\n",
       "    <tr>\n",
       "      <th>1</th>\n",
       "      <td>Jakarta Dikangkangi Para Preman\\nKALAU tak pun...</td>\n",
       "      <td>7472</td>\n",
       "    </tr>\n",
       "    <tr>\n",
       "      <th>2</th>\n",
       "      <td>Penyimpangan di Setpres Seolah Terjadi Sekaran...</td>\n",
       "      <td>3098</td>\n",
       "    </tr>\n",
       "    <tr>\n",
       "      <th>3</th>\n",
       "      <td>Dibayarkan, Rapel Kenaikan Gaji Pegawai Pos\\nK...</td>\n",
       "      <td>1479</td>\n",
       "    </tr>\n",
       "    <tr>\n",
       "      <th>4</th>\n",
       "      <td>Stop Kekerasan, Elite agar Duduk Bersama\\nSeju...</td>\n",
       "      <td>5961</td>\n",
       "    </tr>\n",
       "  </tbody>\n",
       "</table>\n",
       "</div>"
      ],
      "text/plain": [
       "                                                teks  Character\n",
       "0  Ginandjar Tetap Ditahan. Jaksa Agung Dilaporka...       7828\n",
       "1  Jakarta Dikangkangi Para Preman\\nKALAU tak pun...       7472\n",
       "2  Penyimpangan di Setpres Seolah Terjadi Sekaran...       3098\n",
       "3  Dibayarkan, Rapel Kenaikan Gaji Pegawai Pos\\nK...       1479\n",
       "4  Stop Kekerasan, Elite agar Duduk Bersama\\nSeju...       5961"
      ]
     },
     "execution_count": 8,
     "metadata": {},
     "output_type": "execute_result"
    }
   ],
   "source": [
    "df['Character'] = df['teks'].apply(len)\n",
    "df.head()"
   ]
  },
  {
   "cell_type": "code",
   "execution_count": 9,
   "id": "ced0da22",
   "metadata": {},
   "outputs": [
    {
     "data": {
      "text/plain": [
       "<AxesSubplot:ylabel='Frequency'>"
      ]
     },
     "execution_count": 9,
     "metadata": {},
     "output_type": "execute_result"
    },
    {
     "data": {
      "image/png": "[encoded data removed]",
      "text/plain": [
       "<Figure size 432x288 with 1 Axes>"
      ]
     },
     "metadata": {
      "needs_background": "light"
     },
     "output_type": "display_data"
    }
   ],
   "source": [
    "# Visualize a length of Character in text message\n",
    "\n",
    "df['Character'].plot.hist(bins = 150, edgecolor='black',color='green')"
   ]
  },
  {
   "cell_type": "code",
   "execution_count": 10,
   "id": "abd689ac",
   "metadata": {},
   "outputs": [
    {
     "data": {
      "text/plain": [
       "count     2008.000000\n",
       "mean      4910.549801\n",
       "std       1988.177740\n",
       "min        827.000000\n",
       "25%       3464.250000\n",
       "50%       4993.500000\n",
       "75%       6182.750000\n",
       "max      14284.000000\n",
       "Name: Character, dtype: float64"
      ]
     },
     "execution_count": 10,
     "metadata": {},
     "output_type": "execute_result"
    }
   ],
   "source": [
    "df.Character.describe()"
   ]
  },
  {
   "cell_type": "code",
   "execution_count": 11,
   "id": "60648c27",
   "metadata": {
    "scrolled": true
   },
   "outputs": [
    {
     "data": {
      "text/plain": [
       "'Wawancara \"Kompas\" dengan Captain Abdul Rozaq  Saya Buat Sungai Seolah-olah \"Runway\"-nya\\n\\nDENGAN dua mesin mati, tidak  ada  pilihan  bagi  Captain Abdul Rozaq (45) dan kopilot senior Heryadi Gunawan (46), kecuali melakukan ditching, pendaratan darurat, di Sungai Bengawan Solo bagi Boeing 737-300 Garuda Indonesia pada Rabu sore, 16 Januari lalu.  \\n\\nKota Yogyakarta yang ditujunya sebenarnya tidak begitu jauh lagi, tetapi daya luncur pesawat diperkirakan tidak cukup untuk bermanuver melewati perbukitan untuk mencapainya.  \\n\\nSebaliknya, sawah yang terbentang dan terlihat begitu pesawat berhasil keluar dari awan gelap yang membalutnya sekitar lima menit mencekamkan tidak dipilih mengingat pendaratan di tanah berisiko lebih tinggi jatuh korban dibanding di atas air sungai. Secara kebetulan juga, tidak ada dataran tinggi di sekitarnya.  \\n\\nDalam kondisi kritis, hitungan detik, kedua pilot sempat bertukar pikiran. Gunawan yang semula menyarankan mendarat di sawah menerima usulan captain-in-command Abdul Rozaq yang dikenal rekan-rekannya sebagai seorang pilot yang kalem, mendarat di Sungai Bengawan Solo.  \\n\\nBerikut kisah tentang penerbangan dramatis Ampenan-Yogyakarta-Jakarta yang menjadi berita nasional dan internasional yang tidak sempat ia tuntaskan kepada wartawan Kompas Dudi Sudibyo, dituturkan di tengah hujan lebat, Selasa (22/1) malam, ketika ditemui di rumah mungilnya di kawasan Cipondoh, Tangerang. \\n\\nWAKTU itu, ketinggian pesawat 31.000 kaki. Karena ada traffic dari Jakarta, saya diminta turun ke 28.000 kaki oleh Bali Control dan saya maintain pada ketinggian itu. Pesawat waktu itu berada di point Entas (pada jalur udara W34/W43/W45-Red), yakni sebelum Kota Surabaya. Kemudian saya minta untuk terbang langsung ke (titik) Lasem (jalur udara W45/G461 yang melewati dekat Blora-Red), sedikit memelipir Kota Surabaya dan mendapat jawaban dari Bali Control bahwa kalau cuacanya baik, diizinkan langsung ke Blora. \\n\\nSaya minta izin itu karena cuaca sebelum Lasem sudah bagus, jadi minta ke Blora. Nah, memasuki Blora inilah cuaca sudah mulai memburuk dan pesawat mulai turun menjelang point Purwo (Purwodadi) sebelum Solo. Di sinilah cuaca memburuk. Saya mengambil kirinya Purwo karena kalau ke kanan ada Gunung Merapi dan di situ ada dua slot (yang satu militer, Iswahjudi Control merupakan restricted area, harus minta izin ke menara kontrol militer ini- Red) menuju Yogya. \\n\\nItulah sebabnya saya ambil kiri Purwo. Waktu itu jauh-jauh sudah set radar yang menunjukkan banyak awan (berbahaya), tapi ada celah terlihat pada radar yang kira-kira bisa ditembus pesawat, yaitu di sebelah kiri. Tapi, serba repot juga karena ke kiri nanti masuk daerah Iswahjudi, ke kanan ada Gunung Merapi. Saya ambil ke (celah) kiri yang dari jauh di radar (cuaca) kelihatan (garis) tipis. \\n\\nWaktu itu ketinggian pesawat terus menurun kira-kira pada saat itu sekitar 23.000 kaki. Saya sudah set semua untuk masuk turbulens, jadi sudah dengan speed turbulens 280 knot, kemudian tanda seat-belt saya on-kan. Anti-ice sudah on, jadi sudah siap untuk masuk ke icing condition (dalam berita Kompas 18/1 diduga icing ini yang mungkin menjadi salah satu penyebab kedua mesinnya mati, mungkin juga penyebab lainnya adalah air hujan banyak yang masuk ke dalam mesin. Semua ini baru bisa dibuktikan bila rekaman kotak hitam FDR dan CVR sudah dianalisis-Red). \\n\\nPenumpang sudah saya suruh duduk semua, sebab biasanya kalau tanda seat-belt (sabuk pengaman) on, awak kabin akan tanya apakah ini mau mendarat atau cuaca buruk. Kalau cuaca buruk, dia akan suruh penumpang mengenakan sabuk pengaman. \\n\\nFrieda Mersiati (pramugari senior -Red) sempat ke kokpit. Terus saya bilang, buruan ke belakang karena cuacanya jelek. Itu sebelum pesawat masuk (ke dalam) cuaca buruk. Ia langsung duduk di kursinya. Tak lama kemudian pesawat masuk ke dalam cuaca buruk (itu).  \\n\\nSepanjang menerbangkan pesawat, baru kali ini saya masuk weather seperti itu jeleknya. Up and down-nya (atau pesawat dibanting-banting - Red) bisa 1.000 sampai 2.000 kaki! Ekstrem sekali. Saya minta F/O (first officer/ko-pilot) untuk memonitor mesin dan saya konsentrasi menerbangkan pesawatnya. Tiba-tiba kedua mesinnya flame out, mati!   \\n\\nSaya tidak tahu persis di atas mana pesawat berada. Pokoknya yang saya tahu Purwodadi ada di sebelah kiri. Kemudian saya coba menghidupkan mesin. Tapi mesin tidak mau hidup lagi. Lalu saya minta diulangi lagi dan minta F/O (Gunawan) untuk mengecek emergency check-list, barangkali ada yang terlewat. Ternyata tidak ada dan kami ulangi lagi untuk menghidupkan mesin. Tidak mau hidup juga! Di ulang lagi, tetap mesin tidak mau menyala.  \\n\\n(Prosedur yang ditempuh Abdul Rozaq dan Heriyadi Gunawan adalah dengan windmill start envelope, yakni dengan bantuan putaran fan blade (bilah-bilah di bagian depan mesin yang berputar, dapat \"mengejutkan\" mesin untuk hidup  -  seperti mendorong mobil kemudian dikejutkan untuk hidupkan mesinnya. Cara dengan menukikkan tajam pesawat ini berhasil pada jumbo Boeing 747-400 British Airways yang keempat mesinnya mati mendadak terkena debu letusan Gunung Galunggung sehingga dengan satu mesin dibantu satu mesin lagi hidup pada detik-detik menjelang mendarat di Bandara Halim Perdanakusuma). \\n\\nPesawat waktu itu (ketinggiannya) terus menurun. Menurun teruuuss! (Diharapkan dengan menurunnya pesawat, dapat membantu menghidupkan mesinnya lagi. Namun, mungkin karena ketinggiannya tidak setinggi Boeing 747 British Airways 41.000 kaki dan baru setelah melewati 20.000 kaki, salah satu mesinnya hidup dari keempat mesin hidup, mesin B-737 Garuda tidak mau berfungsi lagi -Red). Belum kelihatan pesawat bisa keluar dari awan (badai hujan dan petir yang memerangkapnya - Red). Nah, waktu mesin mati, semua ikut mati. Selain usaha menghidup mesin, saya konsentrasi menerbangkan pesawat agar jangan sampai dia (ter) balik. Jangan sampai dia banking-nya (tajam), pokoknya wing (sayap) harus level.  \\n\\nJadi saya konsentrasi menerbangkan pesawat dan Gunawan coba menghidupkan mesinnya. Karena tidak juga berhasil dengan windmill procedure, kami coba dengan bantuan APU (Auxiliary Power Unit/generator listrik yang terletak di bagian ujung badan belakang pesawat - Red).  \\n\\nTernyata begitu APU dihidupkan, saya tidak mengerti ... terus semuanya jadi gelap. Mati! Instrumen yang tadinya masih ada angka-angkanya, tiba-tiba hilang. Pesawat masih di dalam awan gelap (dipermainkan cuaca, terguncang-guncang - Red). Tapi saya masih menguasai kendali pesawat, masih wing level!  \\n\\nSaya perkirakan waktu itu ada pada ketinggian 8.000 kaki ketika Gunawan berteriak: Cap, ada celah! Di sana ada celah! Begitu keluar dari celah itu, semua jadi terang. Visibility (jarak pandang) mungkin sekitar 10 kilometer. Bagus sekali! \\n\\nSekitar saat itu pramugara (senior) Tuhu Wasono (38) masuk ke kokpit. Saya terus mengatakan padanya supaya siapkan untuk pendaratan darurat, karena kedua mesin pesawat mati. \"Prepare for emergency landing di belakang (maksudnya di kabin penumpang)\" kata saya. Kemudian tidak ada laporan dari belakang, apakah dia sudah mempersiapkan penumpang atau belum. Sementara itu semua lampu mati. Komunikasi juga ikut putus. Semuanya tidak berfungsi. Gunawan kemudian mengabarkan tanda SOS \"Mayday, Mayday, Mayday (diambil dari kata Perancis : M\\'aidez - bacanya meidei atau tolong saya).  \\n\\nSaya katakan padanya percuma saja Mayday, Mayday Mayday-nya (karena tidak ada tenaga listrik). (Namun sebelum masuk awan badai hujan dan petir, pesawat sempat mengontak Semarang setelah lepas dari Bali Control saat diberi clearance turun ke 9.000 kaki. Itulah kontak terakhir dengan darat. Menara Adisucipto kemudian karena kehilangan kontak dengan Boeing 737-300 registrasi PK-GWA ini, minta pesawat Fokker F-28 Pelita yang akan mendarat setelah 737 Garuda untuk holding di sekitar Solo). \\n\\nKarena tidak ada hubungan dengan kabin, Gunawan sempat menggedor pintu untuk \"mengetahui\" apakah mereka sudah siap atau belum untuk pendaratan darurat. Komunikasinya hanya dengan itu saja. Karena tidak ada pemberitahuan dari public announcement (PA) melalui loudspeaker akibat tidak ada listrik dan mungkin karena tidak pakai megaphone, mengutip media kemudian disebutkan bahwa penumpang tidak diberitahu mengenai pendaratan darurat. \\n\\nGunawan kemudian mengatakan: Cap ada sawah. Saya bilang: jangan ke situ. Kalau sawah nanti lebih fatal. Itu ada sungai, saya bilang. Kita ke sungai saja. Dari ketinggian saat itu, saya tidak melihat bahwa di sungai itu ada dua jembatan (setelah lebih dekat lagi, Rozaq mendapatkan tidak saja dua tapi beberapa jembatan menghubungi kedua tepi sungai). \\n\\nBegitu lihat sungai itu, saya jadikan seolah-olah runway, landasan pacu. Pikirannya melayang ketika berada di flying school (Curug) di mana dulu ada latihan force landing seakan-akan mesinnya mati dan harus mencari lapangan untuk mendapat (secepat mungkin). Saya anggap seolah-olah Boeing 737 pesawat kecil flying school, bukan pesawat gede. Mungkin ini yang membuat saya yakin diri (bisa mendarat di lapangan \"kecil\" antara kedua jembatan).  \\n\\nJarak antarkedua jembatan sekitar 1.500 meter, jadi memang pendek sekali. Itulah \"landasan\" yang saya harus darati. Pada ancang-ancang pertama mau mendarat kalau saya lakukan pasti akan menabrak jembatan yang banyak tiang penyanggahnya. Jadi saya memutar lagi untuk menurunkan ketinggian (yang dibutuhkan) dan buat downwind (pesawat posisinya paralel dengan landasan) kemudian saya masuk. Entah bagaimana, saya pun tidak mengerti, sudah mendaratkan pesawat (di air). Tidak pakai roda pendarat, tidak pakai flap segala macam karena memang kondisinya begitu.  \\n\\nRoda pendarat tidak dikeluarkan karena mungkin kalau dipakai, mungkin akan lebih parah lagi karena akan kena drag (hambatan), mungkin akan hantam batu. Akan parah nanti. Untung tidak ada dataran tinggi di sekeliling daerah itu. Saya anggap saja, itu sungai landasan kemudian melakukan manuver approach yang bagus. First officer (Gunawan) memonitor kecepatan dan ketinggian dengan satu-satu alat standby horizon dan kompas yang masih berfungsi.  \\n\\nWaktu mendarat (dengan mendongakkan hidungnya ke atas sehingga bagian buntutnya menyentuh air dahulu - Red) saya merasakan seperti pesawat kena benda, mungkin batu. Impaknya (dengan air) Alhamdullilah tidak sekeras impak hard landing sampai-sampai penumpang tidak merasakan (pendaratan hard landing). Kemudian terasa sebelah kiri (bawah) terkena batu yang membuat pesawat membelok ke kanan di mana ada tanggul dan pesawat langsung naik (di atasnya). Di situ pun (kebetulan) ada rumah kosong yang (kemudian) dibuat untuk evakuasi dan ada mobil bak terbuka (yang kemudian dipakai untuk mengantar penumpang luka ke puskesmas yang letaknya tidak jauh dari lokasi). \\n\\nSetelah impak dengan air, pesawat sempat meluncur kira-kira 100 meter sebelum berhenti. Jarak dengan jembatan di hadapannya sekitar 300 atau 500 meter. Kalau terus meluncur ke depan pasti akan kena tabrak pesawat. Ketinggian air tempat pesawat berhenti kira-kira sepinggul. Setelah diukur KNKT dengan GPS dasar sungai di mana pesawat berhenti adalah enam meter dalamnya pada kedua jembatan, tapi agak mendatar pada bagian perut pesawat. Jadi rupanya pas pesawat berhenti di tengah-tengah situ, bagian yang naik, mendatar itu.  \\n\\nBerhentinya pesawat pun pendek sekali, kalah itu namanya maximum brake. Begitu menyentuh (air)  -  des, des, des langsung berhenti! Kira-kira 200 sampai 300 meter. Saya pernah menggunakan maximum brake, itu masih kalah karena masih agak jauh sebelum pesawat berhenti.  \\n\\nSebelum melakukan pendaratan, saya juga sudah menyiapkan diri, yakni siap agar tidak terkena benturan gagang kemudi. Mulut first officer mungkin karena kurang siap, terkena kemudi waktu pesawat mendarat. Waktu mau buka pintu kokpit, pintu terganjal oleh lantai yang mencuat. Dengan demikian, kami berdua terpaksa menendangnya untuk membukanya. Gunawan kemudian keluar pesawat, membantu evakuasi penumpang dan saya di pesawat membantu menolong mereka keluar pesawat bersama dua awak kabin yang masih bisa membantu karena seorang di antaranya luka-luka, tidak bisa membantu sedang seorang lagi tidak diketahui di mana. \\n\\nBaru kemudian malam hari saya ketahui pramugari Santi Anggraeni yang duduk di bagian belakang pesawat, ditemukan sekitar 500 meter dari lokasi pesawat. Rupanya waktu pesawat impak dengan air terkena batu, membuat lubang. Jadi ruang bertekanan tiba-tiba saja kehilangan tekanannya, menyedot keluar jump seat bersama Santi (juga menyedot keluar pantry, dapur dan barang dan bagasi dalam perut pesawat).  \\n\\nAda penumpang yang menderita stroke, Pak Gatot Suherman, mantan Gubernur yang menghalangi evakuasi penumpang. Jadi kami gotong ramai-ramai ke slide pesawat, setelah dia berhasil dikeluarkan dari kabin pesawat, baru yang lain bisa keluar.  \\n\\nDi kelas bisnis ada seorang penumpang ibu-ibu yang berada di dalam lubang (menganga) seperti sumur. Kita semua membantunya keluar. Karena arusnya deras, jadi susah mengeluarkan ibu itu dari dalam lubang tersebut. Lubang itu terjadi mungkin waktu pesawat membentur untuk kedua kalinya, yang membelokkannya ke kanan itu. \\n\\nSetelah semua penumpang dievakuasi, kemudian saya menanyakan diri harus ke mana saya ini. Saya harus ngapain ... lalu saya teringat, saya punya handphone. Begitu pencet signalnya bagus. Tapi saya bingung, mau telepon ke mana, ke siapa. Cukup lama saya bingung dibuatnya ... tangan saya gemetar waktu mau menyentuh tombolnya.  \\n\\nAkhirnya saya bisa menelepon ke kantor. Begitu menyambung, begitu diangkat dan saya beritahu bahwa saya baru saja crash, ada di Bengawan Solo. Pas waktu itu ada Captain Alex Mantiri dan direbutnya telepon di sana. Kemudian kepadanya saya ceritakan bahwa saya ada di Bengawan Solo, kira-kira 20 kilometer dari Solo. Kemudian mereka koordinasi. Setelah itu baru saya telepon ke rumah.  \\n\\nSeperti Allah mengaturnya semua .... kalau pesawat belok ke kiri (waktu di air) akan lebih parah lagi, soalnya jauh dari penduduk karena di situ seperti hutan. Tapi kok ke kanan beloknya, di mana langsung ada jalan raya, mobil bisa masuk ke tepinya. Dan pas betul juga ada mobil bak terbuka dan dekat puskesmas. Itu cepat menolong mereka yang dievakuasi. Lalu ada rumah kosong, ada kamar yang dijadikan tempat evakuasi barang.  \\n\\nRupanya Allah telah mengaturnya ...       \\n\\n'"
      ]
     },
     "execution_count": 11,
     "metadata": {},
     "output_type": "execute_result"
    }
   ],
   "source": [
    "#Grab the maximum character in text document\n",
    "\n",
    "df[df['Character'] == 14284]['teks'].iloc[0]"
   ]
  },
  {
   "cell_type": "markdown",
   "id": "ccbabf58",
   "metadata": {},
   "source": [
    "### Visualize Label Distribution"
   ]
  },
  {
   "cell_type": "code",
   "execution_count": 12,
   "id": "06b99d63",
   "metadata": {},
   "outputs": [
    {
     "data": {
      "text/plain": [
       "array([[<AxesSubplot:title={'center':'Character'}>]], dtype=object)"
      ]
     },
     "execution_count": 12,
     "metadata": {},
     "output_type": "execute_result"
    },
    {
     "data": {
      "image/png": "[encoded data removed]",
      "text/plain": [
       "<Figure size 864x288 with 1 Axes>"
      ]
     },
     "metadata": {
      "needs_background": "light"
     },
     "output_type": "display_data"
    }
   ],
   "source": [
    "df.hist(column='Character', bins =60, figsize=(12,4), edgecolor='black')"
   ]
  },
  {
   "cell_type": "markdown",
   "id": "174316a2",
   "metadata": {},
   "source": [
    "## Cleaning Dataset"
   ]
  },
  {
   "cell_type": "code",
   "execution_count": 13,
   "id": "37a24ea3",
   "metadata": {},
   "outputs": [
    {
     "data": {
      "text/plain": [
       "0       Ginandjar Tetap Ditahan. Jaksa Agung Dilaporka...\n",
       "1       Jakarta Dikangkangi Para Preman\\nKALAU tak pun...\n",
       "2       Penyimpangan di Setpres Seolah Terjadi Sekaran...\n",
       "3       Dibayarkan, Rapel Kenaikan Gaji Pegawai Pos\\nK...\n",
       "4       Stop Kekerasan, Elite agar Duduk Bersama\\nSeju...\n",
       "                              ...                        \n",
       "2003    Tersangka Peledakan Granat di Bulungan Ditangk...\n",
       "2004    Soal Operasi Pasar Murni Beras   Pedagang Yaki...\n",
       "2005    Penjualan Indomobil Langgar Prosedur\\n\\nSelain...\n",
       "2006    Belum Jelas Motif  Peledakan Granat di Blok M\\...\n",
       "2007    ANALISIS EKONOMI SJAHRIR    BBM dan PKPS: Menu...\n",
       "Name: teks, Length: 2008, dtype: object"
      ]
     },
     "execution_count": 13,
     "metadata": {},
     "output_type": "execute_result"
    }
   ],
   "source": [
    "df.teks"
   ]
  },
  {
   "cell_type": "code",
   "execution_count": 14,
   "id": "7ee32230",
   "metadata": {},
   "outputs": [],
   "source": [
    "def clean_data(text):\n",
    "    clean_word = word_tokenize(text.lower())\n",
    "    clean_word = [word for word in clean_word if word not in punctuation]\n",
    "    clean_word = [word for word in clean_word if word not in sw_indo]\n",
    "    clean_word = ' '.join(clean_word)\n",
    "    return clean_word"
   ]
  },
  {
   "cell_type": "code",
   "execution_count": 15,
   "id": "84a322c6",
   "metadata": {},
   "outputs": [
    {
     "data": {
      "text/html": [
       "<div>\n",
       "<style scoped>\n",
       "    .dataframe tbody tr th:only-of-type {\n",
       "        vertical-align: middle;\n",
       "    }\n",
       "\n",
       "    .dataframe tbody tr th {\n",
       "        vertical-align: top;\n",
       "    }\n",
       "\n",
       "    .dataframe thead th {\n",
       "        text-align: right;\n",
       "    }\n",
       "</style>\n",
       "<table border=\"1\" class=\"dataframe\">\n",
       "  <thead>\n",
       "    <tr style=\"text-align: right;\">\n",
       "      <th></th>\n",
       "      <th>teks</th>\n",
       "      <th>Character</th>\n",
       "    </tr>\n",
       "  </thead>\n",
       "  <tbody>\n",
       "    <tr>\n",
       "      <th>0</th>\n",
       "      <td>Ginandjar Tetap Ditahan. Jaksa Agung Dilaporka...</td>\n",
       "      <td>7828</td>\n",
       "    </tr>\n",
       "    <tr>\n",
       "      <th>1</th>\n",
       "      <td>Jakarta Dikangkangi Para Preman\\nKALAU tak pun...</td>\n",
       "      <td>7472</td>\n",
       "    </tr>\n",
       "    <tr>\n",
       "      <th>2</th>\n",
       "      <td>Penyimpangan di Setpres Seolah Terjadi Sekaran...</td>\n",
       "      <td>3098</td>\n",
       "    </tr>\n",
       "    <tr>\n",
       "      <th>3</th>\n",
       "      <td>Dibayarkan, Rapel Kenaikan Gaji Pegawai Pos\\nK...</td>\n",
       "      <td>1479</td>\n",
       "    </tr>\n",
       "    <tr>\n",
       "      <th>4</th>\n",
       "      <td>Stop Kekerasan, Elite agar Duduk Bersama\\nSeju...</td>\n",
       "      <td>5961</td>\n",
       "    </tr>\n",
       "    <tr>\n",
       "      <th>...</th>\n",
       "      <td>...</td>\n",
       "      <td>...</td>\n",
       "    </tr>\n",
       "    <tr>\n",
       "      <th>2003</th>\n",
       "      <td>Tersangka Peledakan Granat di Bulungan Ditangk...</td>\n",
       "      <td>2118</td>\n",
       "    </tr>\n",
       "    <tr>\n",
       "      <th>2004</th>\n",
       "      <td>Soal Operasi Pasar Murni Beras   Pedagang Yaki...</td>\n",
       "      <td>6266</td>\n",
       "    </tr>\n",
       "    <tr>\n",
       "      <th>2005</th>\n",
       "      <td>Penjualan Indomobil Langgar Prosedur\\n\\nSelain...</td>\n",
       "      <td>8329</td>\n",
       "    </tr>\n",
       "    <tr>\n",
       "      <th>2006</th>\n",
       "      <td>Belum Jelas Motif  Peledakan Granat di Blok M\\...</td>\n",
       "      <td>2161</td>\n",
       "    </tr>\n",
       "    <tr>\n",
       "      <th>2007</th>\n",
       "      <td>ANALISIS EKONOMI SJAHRIR    BBM dan PKPS: Menu...</td>\n",
       "      <td>11068</td>\n",
       "    </tr>\n",
       "  </tbody>\n",
       "</table>\n",
       "<p>2008 rows × 2 columns</p>\n",
       "</div>"
      ],
      "text/plain": [
       "                                                   teks  Character\n",
       "0     Ginandjar Tetap Ditahan. Jaksa Agung Dilaporka...       7828\n",
       "1     Jakarta Dikangkangi Para Preman\\nKALAU tak pun...       7472\n",
       "2     Penyimpangan di Setpres Seolah Terjadi Sekaran...       3098\n",
       "3     Dibayarkan, Rapel Kenaikan Gaji Pegawai Pos\\nK...       1479\n",
       "4     Stop Kekerasan, Elite agar Duduk Bersama\\nSeju...       5961\n",
       "...                                                 ...        ...\n",
       "2003  Tersangka Peledakan Granat di Bulungan Ditangk...       2118\n",
       "2004  Soal Operasi Pasar Murni Beras   Pedagang Yaki...       6266\n",
       "2005  Penjualan Indomobil Langgar Prosedur\\n\\nSelain...       8329\n",
       "2006  Belum Jelas Motif  Peledakan Granat di Blok M\\...       2161\n",
       "2007  ANALISIS EKONOMI SJAHRIR    BBM dan PKPS: Menu...      11068\n",
       "\n",
       "[2008 rows x 2 columns]"
      ]
     },
     "execution_count": 15,
     "metadata": {},
     "output_type": "execute_result"
    }
   ],
   "source": [
    "df"
   ]
  },
  {
   "cell_type": "code",
   "execution_count": 16,
   "id": "ba1bd51f",
   "metadata": {},
   "outputs": [
    {
     "data": {
      "text/plain": [
       "0       ginandjar ditahan jaksa agung dilaporkan polri...\n",
       "1       jakarta dikangkangi preman nyali uang berjuala...\n",
       "2       penyimpangan setpres presiden abdurrahman wahi...\n",
       "3       dibayarkan rapel kenaikan gaji pegawai pos ken...\n",
       "4       stop kekerasan elite duduk intelektual tokoh m...\n",
       "                              ...                        \n",
       "2003    tersangka peledakan granat bulungan ditangkap ...\n",
       "2004    operasi pasar murni beras pedagang ampuh mered...\n",
       "2005    penjualan indomobil langgar prosedur mengabaik...\n",
       "2006    motif peledakan granat blok m jumat 4/1 petang...\n",
       "2007    analisis ekonomi sjahrir bbm pkps penyelesaian...\n",
       "Name: teks, Length: 2008, dtype: object"
      ]
     },
     "execution_count": 16,
     "metadata": {},
     "output_type": "execute_result"
    }
   ],
   "source": [
    "df.teks = df.teks.apply(clean_data)\n",
    "df.teks"
   ]
  },
  {
   "cell_type": "markdown",
   "id": "fba6e08d",
   "metadata": {},
   "source": [
    "# 4. TFIDF Similarity"
   ]
  },
  {
   "cell_type": "code",
   "execution_count": 17,
   "id": "134aaba0",
   "metadata": {},
   "outputs": [],
   "source": [
    "from sklearn.metrics.pairwise import cosine_similarity\n",
    "from sklearn.feature_extraction.text import TfidfVectorizer"
   ]
  },
  {
   "cell_type": "code",
   "execution_count": 20,
   "id": "275cf63d",
   "metadata": {},
   "outputs": [],
   "source": [
    "tfidf = TfidfVectorizer(ngram_range=(1,2), tokenizer= word_tokenize, stop_words= sw_indo)\n",
    "tfidf_matrix = tfidf.fit_transform(df.teks)"
   ]
  },
  {
   "cell_type": "code",
   "execution_count": 21,
   "id": "a7e1bb8a",
   "metadata": {},
   "outputs": [
    {
     "data": {
      "text/html": [
       "<div>\n",
       "<style scoped>\n",
       "    .dataframe tbody tr th:only-of-type {\n",
       "        vertical-align: middle;\n",
       "    }\n",
       "\n",
       "    .dataframe tbody tr th {\n",
       "        vertical-align: top;\n",
       "    }\n",
       "\n",
       "    .dataframe thead th {\n",
       "        text-align: right;\n",
       "    }\n",
       "</style>\n",
       "<table border=\"1\" class=\"dataframe\">\n",
       "  <thead>\n",
       "    <tr style=\"text-align: right;\">\n",
       "      <th></th>\n",
       "      <th>teks</th>\n",
       "      <th>Character</th>\n",
       "    </tr>\n",
       "  </thead>\n",
       "  <tbody>\n",
       "    <tr>\n",
       "      <th>0</th>\n",
       "      <td>ginandjar ditahan jaksa agung dilaporkan polri...</td>\n",
       "      <td>7828</td>\n",
       "    </tr>\n",
       "    <tr>\n",
       "      <th>1</th>\n",
       "      <td>jakarta dikangkangi preman nyali uang berjuala...</td>\n",
       "      <td>7472</td>\n",
       "    </tr>\n",
       "    <tr>\n",
       "      <th>2</th>\n",
       "      <td>penyimpangan setpres presiden abdurrahman wahi...</td>\n",
       "      <td>3098</td>\n",
       "    </tr>\n",
       "    <tr>\n",
       "      <th>3</th>\n",
       "      <td>dibayarkan rapel kenaikan gaji pegawai pos ken...</td>\n",
       "      <td>1479</td>\n",
       "    </tr>\n",
       "    <tr>\n",
       "      <th>4</th>\n",
       "      <td>stop kekerasan elite duduk intelektual tokoh m...</td>\n",
       "      <td>5961</td>\n",
       "    </tr>\n",
       "  </tbody>\n",
       "</table>\n",
       "</div>"
      ],
      "text/plain": [
       "                                                teks  Character\n",
       "0  ginandjar ditahan jaksa agung dilaporkan polri...       7828\n",
       "1  jakarta dikangkangi preman nyali uang berjuala...       7472\n",
       "2  penyimpangan setpres presiden abdurrahman wahi...       3098\n",
       "3  dibayarkan rapel kenaikan gaji pegawai pos ken...       1479\n",
       "4  stop kekerasan elite duduk intelektual tokoh m...       5961"
      ]
     },
     "execution_count": 21,
     "metadata": {},
     "output_type": "execute_result"
    }
   ],
   "source": [
    "df.head()"
   ]
  },
  {
   "cell_type": "code",
   "execution_count": 22,
   "id": "9bfd5e5a",
   "metadata": {},
   "outputs": [
    {
     "data": {
      "text/plain": [
       "array([[1.        , 0.01057682, 0.01191387, ..., 0.00854629, 0.00770265,\n",
       "        0.01542632]])"
      ]
     },
     "execution_count": 22,
     "metadata": {},
     "output_type": "execute_result"
    }
   ],
   "source": [
    "similarity = cosine_similarity(tfidf_matrix[0], tfidf_matrix)\n",
    "similarity"
   ]
  },
  {
   "cell_type": "code",
   "execution_count": 23,
   "id": "d0071182",
   "metadata": {},
   "outputs": [
    {
     "data": {
      "text/plain": [
       "array([[1131,  932, 1593, ...,  215,  144,    0]], dtype=int64)"
      ]
     },
     "execution_count": 23,
     "metadata": {},
     "output_type": "execute_result"
    }
   ],
   "source": [
    "similarity.argsort()"
   ]
  },
  {
   "cell_type": "markdown",
   "id": "d5c0ffec",
   "metadata": {},
   "source": [
    "### Menguji kemiripan antara dokumen yang diuji (dokumen 1 index ke-0) dengan dokumen index ke 144 dan 215"
   ]
  },
  {
   "cell_type": "code",
   "execution_count": 24,
   "id": "fcd7e9d4",
   "metadata": {},
   "outputs": [
    {
     "data": {
      "text/plain": [
       "'ginandjar ditahan jaksa agung dilaporkan polri kejaksaan agung memutuskan menahan tersangka korupsi ginandjar kartasasmita batas ditentukan kuhap kuasa hukum ginandjar senin 16/4 malam 24.30 ruang tah'"
      ]
     },
     "execution_count": 24,
     "metadata": {},
     "output_type": "execute_result"
    }
   ],
   "source": [
    "df.teks[0][:200]"
   ]
  },
  {
   "cell_type": "code",
   "execution_count": 25,
   "id": "5e54716a",
   "metadata": {},
   "outputs": [
    {
     "data": {
      "text/plain": [
       "'kejaksaan agung terbitkan surat penahanan kejaksaan agung kejagung menerbitkan surat perintah penahanan mantan menteri pertambangan energi ginandjar kartasasmita surat perintah penahanan nomor 052/f/s'"
      ]
     },
     "execution_count": 25,
     "metadata": {},
     "output_type": "execute_result"
    }
   ],
   "source": [
    "df.teks[144][:200]"
   ]
  },
  {
   "cell_type": "code",
   "execution_count": 26,
   "id": "054e454f",
   "metadata": {},
   "outputs": [
    {
     "data": {
      "text/plain": [
       "'kuasa hukum ginandjar bertahan rutan kuasa hukum ginandjar kartasasmita selasa 17/4 22.00 bertahan ruang tahanan rutan kejaksaan agung kejagung selasa pagi mengirimkan surat resmi kejagung isinya keja'"
      ]
     },
     "execution_count": 26,
     "metadata": {},
     "output_type": "execute_result"
    }
   ],
   "source": [
    "df.teks[215][:200]"
   ]
  },
  {
   "cell_type": "markdown",
   "id": "63fb7d2c",
   "metadata": {},
   "source": [
    "`Hasil dari pengecekan antar dokumennya ternyata mirip`"
   ]
  },
  {
   "cell_type": "markdown",
   "id": "3eaf8a04",
   "metadata": {},
   "source": [
    "### Menguji ketidakmiripan antara dokumen yang diuji (dokumen 1 index ke-0) dengan dokumen dengan index ke 932"
   ]
  },
  {
   "cell_type": "code",
   "execution_count": 27,
   "id": "828c9d3f",
   "metadata": {},
   "outputs": [
    {
     "data": {
      "text/plain": [
       "'ginandjar ditahan jaksa agung dilaporkan polri kejaksaan agung memutuskan menahan tersangka korupsi ginandjar kartasasmita batas ditentukan kuhap kuasa hukum ginandjar senin 16/4 malam 24.30 ruang tah'"
      ]
     },
     "execution_count": 27,
     "metadata": {},
     "output_type": "execute_result"
    }
   ],
   "source": [
    "df.teks[0][:200]"
   ]
  },
  {
   "cell_type": "code",
   "execution_count": 28,
   "id": "aefe4971",
   "metadata": {},
   "outputs": [
    {
     "data": {
      "text/plain": [
       "'pusat pengolahan ikan asin lhokseumawe terbakar pusat pengolahan ikan asin kawasan pasar ikan lhokseumawe aceh terbakar berton-ton stok ikan asin sabtu 13/1 siang 25 gudang pengolahan ikan asin 120 gu'"
      ]
     },
     "execution_count": 28,
     "metadata": {},
     "output_type": "execute_result"
    }
   ],
   "source": [
    "df.teks[932][:200]"
   ]
  },
  {
   "cell_type": "markdown",
   "id": "ce19ed0c",
   "metadata": {},
   "source": [
    "```json\n",
    "Bisa dilihat, ternyata index ke 932 ini topic beritanya sangat berbeda dengan index ke-0.\n",
    "\n",
    "- Dokumen index ke-0 = Memberitakan pak Ginandjar Kertasasmita ditahan \n",
    "- Dokumen index ke-932 = Memberitakan Pengolahan Ikan Asin Lhokseumawe Terbakar\n",
    "```"
   ]
  },
  {
   "cell_type": "markdown",
   "id": "eb5046c3",
   "metadata": {},
   "source": [
    "_________"
   ]
  },
  {
   "cell_type": "markdown",
   "id": "c8b2b9b2",
   "metadata": {},
   "source": [
    "# Keyword Extraction"
   ]
  },
  {
   "cell_type": "code",
   "execution_count": 29,
   "id": "3a3a138f",
   "metadata": {
    "scrolled": true
   },
   "outputs": [
    {
     "name": "stderr",
     "output_type": "stream",
     "text": [
      "C:\\Users\\Malik Afu Hamid\\anaconda3\\lib\\site-packages\\sklearn\\feature_extraction\\text.py:382: UserWarning: Your stop_words may be inconsistent with your preprocessing. Tokenizing the stop words generated tokens ['``'] not in stop_words.\n",
      "  warnings.warn('Your stop_words may be inconsistent with '\n"
     ]
    }
   ],
   "source": [
    "tfidf = TfidfVectorizer(ngram_range=(1,2), tokenizer= word_tokenize, stop_words= sw_indo + list(punctuation))\n",
    "tfidf_matrix = tfidf.fit_transform(df.teks)"
   ]
  },
  {
   "cell_type": "code",
   "execution_count": 30,
   "id": "cebd7581",
   "metadata": {},
   "outputs": [
    {
     "data": {
      "text/plain": [
       "TfidfVectorizer(analyzer='word', binary=False, decode_error='strict',\n",
       "                dtype=<class 'numpy.float64'>, encoding='utf-8',\n",
       "                input='content', lowercase=True, max_df=1.0, max_features=None,\n",
       "                min_df=1, ngram_range=(1, 2), norm='l2', preprocessor=None,\n",
       "                smooth_idf=True,\n",
       "                stop_words=['ada', 'adalah', 'adanya', 'adapun', 'agak',\n",
       "                            'agaknya', 'agar', 'akan', 'akankah', 'akhir',\n",
       "                            'akhiri', 'akhirnya', 'aku', 'akulah', 'amat',\n",
       "                            'amatlah', 'anda', 'andalah', 'antar', 'antara',\n",
       "                            'antaranya', 'apa', 'apaan', 'apabila', 'apakah',\n",
       "                            'apalagi', 'apatah', 'artinya', 'asal', 'asalkan', ...],\n",
       "                strip_accents=None, sublinear_tf=False,\n",
       "                token_pattern='(?u)\\\\b\\\\w\\\\w+\\\\b',\n",
       "                tokenizer=<function word_tokenize at 0x0000022B43A7A8B0>,\n",
       "                use_idf=True, vocabulary=None)"
      ]
     },
     "execution_count": 30,
     "metadata": {},
     "output_type": "execute_result"
    }
   ],
   "source": [
    "tfidf"
   ]
  },
  {
   "cell_type": "code",
   "execution_count": 31,
   "id": "be4eb5c2",
   "metadata": {},
   "outputs": [
    {
     "data": {
      "text/plain": [
       "[\"'45\",\n",
       " \"'45 ``\",\n",
       " \"'45 dasar\",\n",
       " \"'45 hasilkan\",\n",
       " \"'45 indonesia\",\n",
       " \"'45 menolak\",\n",
       " \"'45 menyaksikan\",\n",
       " \"'45 presiden\",\n",
       " \"'45 surono\",\n",
       " \"'ada\",\n",
       " \"'ada klien\",\n",
       " \"'aduh\",\n",
       " \"'aduh menyanyi\",\n",
       " \"'ain\",\n",
       " \"'ain shamms\",\n",
       " \"'akan\",\n",
       " \"'akan dilaksanakan\",\n",
       " \"'akan diusulkan\",\n",
       " \"'alim\",\n",
       " \"'alim direktur\",\n",
       " \"'aman\",\n",
       " \"'aman dugaan\",\n",
       " \"'amm\",\n",
       " \"'amm kh\",\n",
       " \"'amunisi\",\n",
       " \"'amunisi instrumen\",\n",
       " \"'amunisi menyebabkan\",\n",
       " \"'anda\",\n",
       " \"'anda dibentuk\",\n",
       " \"'anu\",\n",
       " \"'anu sengaja\",\n",
       " \"'arabi\",\n",
       " \"'arabi melarang\",\n",
       " \"'arafah\",\n",
       " \"'arafah arafah-\",\n",
       " \"'aromanya\",\n",
       " \"'aromanya daerah\",\n",
       " \"'asli\",\n",
       " \"'asli sempurna\",\n",
       " \"'asy'ari\",\n",
       " \"'asy'ari pendiri\",\n",
       " \"'baku\",\n",
       " \"'baku bae\",\n",
       " \"'bandeng\",\n",
       " \"'bandeng imlek\",\n",
       " \"'banyak\",\n",
       " \"'banyak orang\",\n",
       " \"'bedah\",\n",
       " \"'bedah rampung\",\n",
       " \"'berarti\",\n",
       " \"'berarti bicara\",\n",
       " \"'bersih\",\n",
       " \"'bersih pendeta\",\n",
       " \"'borgol\",\n",
       " \"'borgol membelenggu\",\n",
       " \"'bout\",\n",
       " \"'bout thing\",\n",
       " \"'bruneigate\",\n",
       " \"'bruneigate membuktikan\",\n",
       " \"'bu\",\n",
       " \"'bu panas\",\n",
       " \"'buku\",\n",
       " \"'buku putih\",\n",
       " \"'buloggate\",\n",
       " \"'buloggate 'bruneigate\",\n",
       " \"'cause\",\n",
       " \"'cause she\",\n",
       " \"'chase\",\n",
       " \"'chase it\",\n",
       " \"'cooling\",\n",
       " \"'cooling down\",\n",
       " \"'cowok\",\n",
       " \"'cowok klemar-klemer\",\n",
       " \"'cukup\",\n",
       " \"'cukup 'lebih\",\n",
       " \"'dagang\",\n",
       " \"'dagang sapi\",\n",
       " \"'di\",\n",
       " \"'di jual\",\n",
       " \"'dialog\",\n",
       " \"'dialog jalan\",\n",
       " \"'dihapus\",\n",
       " \"'dihapus membayar\",\n",
       " \"'disiplin\",\n",
       " \"'disiplin bertanggung\",\n",
       " \"'disubsidi\",\n",
       " \"'disubsidi pembuatan\",\n",
       " \"'efek\",\n",
       " \"'efek istana\",\n",
       " \"'ekor\",\n",
       " \"'ekor berkepanjangan\",\n",
       " \"'gebyar\",\n",
       " \"'gebyar amatir\",\n",
       " \"'habis\",\n",
       " \"'habis ``\",\n",
       " \"'halaman\",\n",
       " \"'halaman belajar\",\n",
       " \"'hanya\",\n",
       " \"'hanya ``\",\n",
       " \"'hanya pemanggilan\",\n",
       " \"'hari\",\n",
       " \"'hari uang-uang\",\n",
       " \"'hukuman\",\n",
       " \"'hukuman nu\",\n",
       " \"'id\",\n",
       " \"'id al-kabir\",\n",
       " \"'id al-nahar\",\n",
       " \"'id turki\",\n",
       " \"'iman\",\n",
       " \"'iman kemanusiaan\",\n",
       " \"'ini\",\n",
       " \"'ini polisi\",\n",
       " \"'ini ya\",\n",
       " \"'is\",\n",
       " \"'is kariman\",\n",
       " \"'islam\",\n",
       " \"'islam melatarbelakangi\",\n",
       " \"'jarak\",\n",
       " \"'jarak universitas\",\n",
       " \"'jika\",\n",
       " \"'jika ``\",\n",
       " \"'jika partai\",\n",
       " \"'kalau\",\n",
       " \"'kalau waria\",\n",
       " \"'kami\",\n",
       " \"'kami melakukannya\",\n",
       " \"'kamu\",\n",
       " \"'kamu gegabah\",\n",
       " \"'kamu ngajarin\",\n",
       " \"'kan\",\n",
       " \"'kan bagus\",\n",
       " \"'kapak\",\n",
       " \"'kapak merah\",\n",
       " \"'kapan\",\n",
       " \"'kapan pulang\",\n",
       " \"'kecipratan\",\n",
       " \"'kecipratan rezeki\",\n",
       " \"'keep\",\n",
       " \"'keep it\",\n",
       " \"'kejahatan\",\n",
       " \"'kejahatan bidang\",\n",
       " \"'kelas\",\n",
       " \"'kelas buktinya\",\n",
       " \"'kelas mainan\",\n",
       " \"'kelas universitas\",\n",
       " \"'keluguan\",\n",
       " \"'keluguan penampil\",\n",
       " \"'kemungkinan\",\n",
       " \"'kemungkinan situasi\",\n",
       " \"'kerahasiaan\",\n",
       " \"'kerahasiaan bank\",\n",
       " \"'keunikan\",\n",
       " \"'keunikan 'keunikan\",\n",
       " \"'keunikan bersangkut\",\n",
       " \"'konglomerat\",\n",
       " \"'konglomerat hitam\",\n",
       " \"'kredit\",\n",
       " \"'kredit lancar\",\n",
       " \"'lamunan\",\n",
       " \"'lamunan dunia\",\n",
       " \"'lebih\",\n",
       " \"'lebih menjamin\",\n",
       " \"'m\",\n",
       " \"'m chinese\",\n",
       " \"'m just\",\n",
       " \"'m like\",\n",
       " \"'m looking\",\n",
       " \"'m not\",\n",
       " \"'main\",\n",
       " \"'main insiden\",\n",
       " \"'main mata\",\n",
       " \"'mas\",\n",
       " \"'mas matori\",\n",
       " \"'masak\",\n",
       " \"'masak dpr\",\n",
       " \"'masak enam\",\n",
       " \"'masuk\",\n",
       " \"'masuk angin\",\n",
       " \"'masyarakat\",\n",
       " \"'masyarakat sekolah\",\n",
       " \"'mbak\",\n",
       " \"'mbak ``\",\n",
       " \"'membanjir\",\n",
       " \"'membanjir jawa\",\n",
       " \"'mencari\",\n",
       " \"'mencari kunci\",\n",
       " \"'menjualnya\",\n",
       " \"'menjualnya rakyat\",\n",
       " \"'mental\",\n",
       " \"'mental kepiting\",\n",
       " \"'mental talanka\",\n",
       " \"'menyakitkan\",\n",
       " \"'menyakitkan bppn\",\n",
       " \"'menyala\",\n",
       " \"'menyala sulit\",\n",
       " \"'merestrukturisasi\",\n",
       " \"'merestrukturisasi memperkuat\",\n",
       " \"'model\",\n",
       " \"'model peristiwa-peristiwa\",\n",
       " \"'mulia\",\n",
       " \"'mulia sang\",\n",
       " \"'nah\",\n",
       " \"'nah marah\",\n",
       " \"'nyawanya\",\n",
       " \"'nyawanya ``\",\n",
       " \"'obat'-nya\",\n",
       " \"'obat'-nya mengupayakan\",\n",
       " \"'orang\",\n",
       " \"'orang mbah\",\n",
       " \"'orang pemerintah\",\n",
       " \"'orang tommy\",\n",
       " \"'pelabuhan\",\n",
       " \"'pelabuhan terakhirku\",\n",
       " \"'pembantu\",\n",
       " \"'pembantu arti\",\n",
       " \"'pendatang\",\n",
       " \"'pendatang hormatilah\",\n",
       " \"'penolakan\",\n",
       " \"'penolakan sd\",\n",
       " \"'penyelamatan\",\n",
       " \"'penyelamatan negara\",\n",
       " \"'perbuatan\",\n",
       " \"'perbuatan melawan\",\n",
       " \"'prahara\",\n",
       " \"'prahara geram\",\n",
       " \"'primaraga\",\n",
       " \"'primaraga produser\",\n",
       " \"'rawan\",\n",
       " \"'rawan sekolah\",\n",
       " \"'re\",\n",
       " \"'re wonderful\",\n",
       " \"'s\",\n",
       " \"'s 500\",\n",
       " \"'s ``\",\n",
       " \"'s all\",\n",
       " \"'s ball\",\n",
       " \"'s band\",\n",
       " \"'s bar\",\n",
       " \"'s book\",\n",
       " \"'s center\",\n",
       " \"'s child\",\n",
       " \"'s club\",\n",
       " \"'s cry\",\n",
       " \"'s day\",\n",
       " \"'s diary\",\n",
       " \"'s dkk\",\n",
       " \"'s federal\",\n",
       " \"'s film\",\n",
       " \"'s film-nya\",\n",
       " \"'s guild\",\n",
       " \"'s hall\",\n",
       " \"'s imam\",\n",
       " \"'s indonesia\",\n",
       " \"'s investor\",\n",
       " \"'s kecenderungan\",\n",
       " \"'s koko\",\n",
       " \"'s land\",\n",
       " \"'s laporan\",\n",
       " \"'s make\",\n",
       " \"'s membuka\",\n",
       " \"'s men\",\n",
       " \"'s menggarisbawahi\",\n",
       " \"'s mensinyalkan\",\n",
       " \"'s mensurvei\",\n",
       " \"'s menurunkan\",\n",
       " \"'s mine\",\n",
       " \"'s moody\",\n",
       " \"'s new\",\n",
       " \"'s night\",\n",
       " \"'s party\",\n",
       " \"'s perancis\",\n",
       " \"'s pusat\",\n",
       " \"'s s\",\n",
       " \"'s steven\",\n",
       " \"'s stone\",\n",
       " \"'s terletak\",\n",
       " \"'s turunkan\",\n",
       " \"'s very\",\n",
       " \"'s your\",\n",
       " \"'safe\",\n",
       " \"'safe tibet\",\n",
       " \"'salvo\",\n",
       " \"'salvo pidato\",\n",
       " \"'sangat\",\n",
       " \"'sangat gembira\",\n",
       " \"'sarang\",\n",
       " \"'sarang teroris\",\n",
       " \"'sd\",\n",
       " \"'sd memunculkan\",\n",
       " \"'selebritis\",\n",
       " \"'selebritis dituding\",\n",
       " \"'selesai\",\n",
       " \"'selesai ``\",\n",
       " \"'sungguh\",\n",
       " \"'sungguh melanggar\",\n",
       " \"'terima\",\n",
       " \"'terima kasih\",\n",
       " \"'terluka\",\n",
       " \"'terluka buruk\",\n",
       " \"'teroris\",\n",
       " \"'teroris palestina\",\n",
       " \"'tertib\",\n",
       " \"'tertib sipil\",\n",
       " \"'tetaplah\",\n",
       " \"'tetaplah ``\",\n",
       " \"'tidak\",\n",
       " \"'tidak ``\",\n",
       " \"'tidak dpr\",\n",
       " \"'tidak menteri\",\n",
       " \"'tidak narkoba\",\n",
       " \"'tidak pansus\",\n",
       " \"'ula\",\n",
       " \"'ula fraksi\",\n",
       " \"'unik\",\n",
       " \"'unik dunia\",\n",
       " \"'untuk\",\n",
       " \"'untuk vila-vila\",\n",
       " \"'ve\",\n",
       " \"'ve seen\",\n",
       " \"'vokalis'-nya\",\n",
       " \"'vokalis'-nya alvin\",\n",
       " \"'wajah\",\n",
       " \"'wajah jahat\",\n",
       " \"'waria\",\n",
       " \"'waria ktp\",\n",
       " \"'ya\",\n",
       " \"'ya dihargai\",\n",
       " '-212',\n",
       " '-212 buatan',\n",
       " '-ada',\n",
       " '-ada meja',\n",
       " '-adalah',\n",
       " '-adalah murni',\n",
       " '-agama',\n",
       " '-agama yahudi',\n",
       " '-akan',\n",
       " '-akan terbit',\n",
       " '-alangkah',\n",
       " '-alangkah ayunya',\n",
       " '-amien',\n",
       " '-amien mengaku',\n",
       " '-an',\n",
       " '-an bank',\n",
       " '-andaikata',\n",
       " '-andaikata benar-',\n",
       " '-anjlok',\n",
       " '-anjlok 200',\n",
       " '-antara',\n",
       " '-antara membawa',\n",
       " '-antara transportasi-',\n",
       " '-apa',\n",
       " '-apa sebaliknya-itu',\n",
       " '-apakah',\n",
       " '-apakah lembaga',\n",
       " '-apakah menerima',\n",
       " '-apc',\n",
       " '-apc ``',\n",
       " '-asset',\n",
       " '-asset disposal',\n",
       " '-atau',\n",
       " '-atau ``',\n",
       " '-atau leluhur-',\n",
       " '-atau rumusan',\n",
       " '-bahasa',\n",
       " '-bahasa populer',\n",
       " '-bahkan',\n",
       " '-bahkan memborong',\n",
       " '-bahwa',\n",
       " '-bahwa kesepakatan',\n",
       " '-baik',\n",
       " '-baik tingkat',\n",
       " '-basis',\n",
       " '-basis pertahanan',\n",
       " '-bekerja',\n",
       " '-bekerja japan',\n",
       " '-berdasarkan',\n",
       " '-berdasarkan data',\n",
       " '-berdasarkan konstitusi',\n",
       " '-berdiri',\n",
       " '-berdiri mengantar',\n",
       " '-berikutnya',\n",
       " '-berikutnya negara',\n",
       " '-berjudul',\n",
       " '-berjudul harry',\n",
       " '-berkaitan',\n",
       " '-berkaitan surat',\n",
       " '-bermarkas',\n",
       " '-bermarkas basel',\n",
       " '-berusia',\n",
       " '-berusia 40',\n",
       " '-betapa',\n",
       " '-betapa tingginya',\n",
       " '-biasa',\n",
       " '-biasa wati-',\n",
       " '-bila',\n",
       " '-bila konteks',\n",
       " '-bisa',\n",
       " '-bisa mengawasi',\n",
       " '-bukan',\n",
       " '-bukan dirasa',\n",
       " '-bukan israel-',\n",
       " '-bukan ukm-yang',\n",
       " '-buronan',\n",
       " '-buronan terpidana',\n",
       " '-daerah',\n",
       " '-daerah terparah',\n",
       " '-dalam',\n",
       " '-dalam anggota',\n",
       " '-dalam film',\n",
       " '-dalam ini-',\n",
       " '-dalam rangka',\n",
       " '-dalam rrc',\n",
       " '-dan',\n",
       " '-dan diikuti',\n",
       " '-dan guru',\n",
       " '-dan jatuh',\n",
       " '-dan kelangsungan',\n",
       " '-dan kunjungan',\n",
       " '-dan menerima-',\n",
       " '-dan pasar',\n",
       " '-dan permainannya-',\n",
       " '-dan presiden',\n",
       " '-dan segenap',\n",
       " '-dana',\n",
       " '-dana kemanusiaan',\n",
       " '-dari',\n",
       " '-dari 6.000-',\n",
       " '-dari aksi',\n",
       " '-dari arah',\n",
       " '-dari grafis',\n",
       " '-dari soeharto',\n",
       " '-dengan',\n",
       " '-dengan mempertahankan',\n",
       " '-dengan ratusan',\n",
       " '-dengan tembusan',\n",
       " '-dewan',\n",
       " '-dewan mengusulkan',\n",
       " '-di',\n",
       " '-di 75.000',\n",
       " '-di indonesia',\n",
       " '-di jemaah',\n",
       " '-di lapangan',\n",
       " '-di malam',\n",
       " '-di mencalonkan',\n",
       " '-di mengakui',\n",
       " '-di ny',\n",
       " '-di presiden',\n",
       " '-di ruang',\n",
       " '-di sumbernya',\n",
       " '-di utara',\n",
       " '-di yogyakarta',\n",
       " '-diangkat',\n",
       " '-diangkat menteri',\n",
       " '-didirikan',\n",
       " '-didirikan nabi',\n",
       " '-didukung',\n",
       " '-didukung dana',\n",
       " '-disebut',\n",
       " '-disebut bunderan-hi',\n",
       " '-disebut teman-teman',\n",
       " '-dpr',\n",
       " '-dpr mengusulkan',\n",
       " '-dua',\n",
       " '-dua dusun',\n",
       " '-dua jenis',\n",
       " '-duke',\n",
       " '-duke of',\n",
       " '-dulu',\n",
       " '-dulu andal-dampak-dampak',\n",
       " '-enam',\n",
       " '-enam orang',\n",
       " '-forum',\n",
       " '-forum wartawan',\n",
       " '-hari',\n",
       " '-hari rabu',\n",
       " '-harry',\n",
       " '-harry potter-',\n",
       " '-i',\n",
       " '-i langsa',\n",
       " '-ia',\n",
       " '-ia menyanyikan',\n",
       " '-ibu',\n",
       " '-ibu kota',\n",
       " '-imf',\n",
       " '-imf paris',\n",
       " '-ini',\n",
       " '-ini menarik',\n",
       " '-ini mulyoto',\n",
       " '-istilah',\n",
       " '-istilah berasal',\n",
       " '-istilah sosiolog',\n",
       " '-istri',\n",
       " '-istri aceng-',\n",
       " '-jakarta',\n",
       " '-jakarta pusat',\n",
       " '-jaringan',\n",
       " '-jaringan osama',\n",
       " '-jatuh',\n",
       " '-jatuh samudera',\n",
       " '-jembatan',\n",
       " '-jembatan penghubung',\n",
       " '-jepang',\n",
       " '-jepang 31',\n",
       " '-jepang mengadakan',\n",
       " '-jepang tanggal',\n",
       " '-jika',\n",
       " '-jika saban',\n",
       " '-jika terpilih',\n",
       " '-kabupaten',\n",
       " '-kabupaten padat',\n",
       " '-kakek',\n",
       " '-kakek gus',\n",
       " '-kalangan',\n",
       " '-kalangan dpr',\n",
       " '-kan',\n",
       " '-kan kodam',\n",
       " '-karya',\n",
       " '-karya debussy-',\n",
       " '-katanya-',\n",
       " '-katanya- khawatir',\n",
       " '-kebaikan',\n",
       " '-kebaikan mengalahkan',\n",
       " '-kebuntuan',\n",
       " '-kebuntuan pengangkatan',\n",
       " '-kecepatannya',\n",
       " '-kecepatannya 5',\n",
       " '-kecuali',\n",
       " '-kecuali fraksi',\n",
       " '-kecuali kepala-',\n",
       " '-kecuali partai',\n",
       " '-keduanya',\n",
       " '-keduanya penasihat',\n",
       " '-kelompok',\n",
       " '-kelompok negara/lembaga',\n",
       " '-kembali',\n",
       " '-kembali tanah',\n",
       " '-khususnya',\n",
       " '-khususnya masyarakat',\n",
       " '-khususnya situasi',\n",
       " '-kini',\n",
       " '-kini mendekam',\n",
       " '-klon',\n",
       " '-klon dunia-',\n",
       " '-kombinasi',\n",
       " '-kombinasi exchange',\n",
       " '-kritikus',\n",
       " '-kritikus sastra',\n",
       " '-langsung',\n",
       " '-langsung membuka',\n",
       " '-lapangan',\n",
       " '-lapangan gas-kilang',\n",
       " '-lucia',\n",
       " '-lucia surasih-mengatakan',\n",
       " '-maka',\n",
       " '-maka situ',\n",
       " '-masih',\n",
       " '-masih bebas',\n",
       " '-masih membuatnya',\n",
       " '-masih terungkap',\n",
       " '-maupun',\n",
       " '-maupun prarancang-',\n",
       " '-melalui',\n",
       " '-melalui maklumat',\n",
       " '-meluap',\n",
       " '-meluap jumat',\n",
       " '-meminta',\n",
       " '-meminta pemerintah',\n",
       " '-memperingati',\n",
       " '-memperingati wafatnya',\n",
       " '-mencurahkan',\n",
       " '-mencurahkan isi',\n",
       " '-mengira',\n",
       " '-mengira tabung',\n",
       " '-menurut',\n",
       " '-menurut afp-',\n",
       " '-menurut shihab-',\n",
       " '-meski',\n",
       " '-meski mempengaruhi',\n",
       " '-meskipun',\n",
       " '-meskipun tuntutan',\n",
       " '-minimal',\n",
       " '-minimal 5',\n",
       " '-minyak',\n",
       " '-minyak tanah',\n",
       " '-misalnya',\n",
       " '-misalnya penyempurnaan',\n",
       " '-muladi',\n",
       " '-muladi bagir',\n",
       " '-mulai',\n",
       " '-mulai tanggal',\n",
       " '-mungkin',\n",
       " '-mungkin mengandung',\n",
       " '-muslimat',\n",
       " '-muslimat nu',\n",
       " '-nama',\n",
       " '-nama indonesia',\n",
       " '-nilainya',\n",
       " '-nilainya rp',\n",
       " '-nya',\n",
       " '-nya 1.000',\n",
       " '-nya 10',\n",
       " '-nya 10.000',\n",
       " '-nya 2000',\n",
       " '-nya 50',\n",
       " '-nya ``',\n",
       " '-nya anggota',\n",
       " '-nya bagus',\n",
       " '-nya baru-baru',\n",
       " '-nya be',\n",
       " '-nya berbahaya',\n",
       " '-nya brastagi',\n",
       " '-nya cinta',\n",
       " '-nya cost',\n",
       " '-nya dasar',\n",
       " '-nya dibandingkan',\n",
       " '-nya digaungkan',\n",
       " '-nya dikata',\n",
       " '-nya dilangsungkan',\n",
       " '-nya disaksikan',\n",
       " '-nya disebabkan',\n",
       " '-nya diwaspadai',\n",
       " '-nya dollar',\n",
       " '-nya enam',\n",
       " '-nya formulirnya',\n",
       " '-nya gelang',\n",
       " '-nya globalchange.com',\n",
       " '-nya kalangan',\n",
       " '-nya keputusan',\n",
       " '-nya komunitas',\n",
       " '-nya korban',\n",
       " '-nya korupsi',\n",
       " '-nya kumpul-kumpul',\n",
       " '-nya leeds',\n",
       " '-nya mati',\n",
       " '-nya mayor',\n",
       " '-nya melebihi',\n",
       " '-nya mencapai',\n",
       " '-nya mengalir',\n",
       " '-nya mengambil',\n",
       " '-nya menghanguskan',\n",
       " '-nya menko',\n",
       " '-nya menor',\n",
       " '-nya mesin',\n",
       " '-nya musisi',\n",
       " '-nya nama-nama',\n",
       " '-nya negara',\n",
       " '-nya pecah',\n",
       " '-nya penugasan',\n",
       " '-nya persen',\n",
       " '-nya pimpinan',\n",
       " '-nya remnya',\n",
       " '-nya roberts',\n",
       " '-nya sambilan',\n",
       " '-nya sendiri-sendiri',\n",
       " '-nya si',\n",
       " '-nya suka',\n",
       " '-nya sulit',\n",
       " '-nya sumitro',\n",
       " '-nya terkesan',\n",
       " '-nya wanita',\n",
       " '-nya wawancara',\n",
       " '-organisasi',\n",
       " '-organisasi beranggotakan',\n",
       " '-organisasi pemuda',\n",
       " '-otak',\n",
       " '-otak aksi',\n",
       " '-pada',\n",
       " '-pada abad',\n",
       " '-pada krisis',\n",
       " '-pada tanggal',\n",
       " '-padahal',\n",
       " '-padahal klien',\n",
       " '-padalarang',\n",
       " '-padalarang berlubang-lubang',\n",
       " '-pajak',\n",
       " '-pajak ditanggung',\n",
       " '-palestina',\n",
       " '-palestina tertinggi',\n",
       " '-panggilannya',\n",
       " '-panggilannya profesor-',\n",
       " '-para',\n",
       " '-para pekerja',\n",
       " '-pasar',\n",
       " '-pasar turi',\n",
       " '-penanda',\n",
       " '-penanda tangan',\n",
       " '-pendukung',\n",
       " '-pendukung membunyikan',\n",
       " '-pengadilan',\n",
       " '-pengadilan dpr-',\n",
       " '-pengatur',\n",
       " '-pengatur lintas',\n",
       " '-pengawal',\n",
       " '-pengawal bermotor-memecahkan',\n",
       " '-penghasilan',\n",
       " '-penghasilan guru',\n",
       " '-pengumuman',\n",
       " '-pengumuman harta',\n",
       " '-perbandingan',\n",
       " '-perbandingan modal',\n",
       " '-pertamina',\n",
       " '-pertamina berdaya',\n",
       " '-presiden',\n",
       " '-presiden memilih',\n",
       " '-pulang',\n",
       " '-pulang jakarta',\n",
       " '-red',\n",
       " \"-red 'penolakan\",\n",
       " '-red 15.00',\n",
       " '-red 15.000',\n",
       " '-red ``',\n",
       " '-red bayangkan',\n",
       " '-red berani',\n",
       " '-red berlanjut',\n",
       " '-red diadakan',\n",
       " '-red dilaporkan',\n",
       " '-red disepakati',\n",
       " '-red ditahan',\n",
       " '-red diundur',\n",
       " '-red gabungan',\n",
       " '-red gus',\n",
       " '-red indonesia',\n",
       " '-red jual',\n",
       " '-red ketidakpastian',\n",
       " '-red kokpit',\n",
       " '-red langkah',\n",
       " '-red membantu',\n",
       " '-red memikirkan',\n",
       " '-red memperpanjang',\n",
       " '-red menakertrans',\n",
       " '-red menambah',\n",
       " '-red menerjang',\n",
       " '-red menyetujui',\n",
       " '-red mundur',\n",
       " '-red pendapat',\n",
       " '-red pertemuan',\n",
       " '-red pesawat',\n",
       " '-red sampit',\n",
       " '-red setuju',\n",
       " '-red sidang',\n",
       " '-red stimulasi',\n",
       " '-red suka',\n",
       " '-red tahap',\n",
       " '-red tinggal',\n",
       " '-red tokoh',\n",
       " '-red ujian',\n",
       " '-red urusan',\n",
       " '-red wahid',\n",
       " '-relawan',\n",
       " '-relawan berani',\n",
       " '-saat',\n",
       " '-saat pengecekan',\n",
       " '-salah',\n",
       " '-salah lembaga',\n",
       " '-salah satunya',\n",
       " '-saling',\n",
       " '-saling mengembangkan',\n",
       " '-sampit',\n",
       " '-sampit 220',\n",
       " '-saya',\n",
       " '-saya masyarakat',\n",
       " '-sebagai',\n",
       " '-sebagai basis',\n",
       " '-sebagai kepala',\n",
       " '-sebagai misi',\n",
       " '-sebagai paket',\n",
       " '-sebagai pengantar',\n",
       " '-sebagaimana',\n",
       " '-sebagaimana dikonfirmasikan',\n",
       " '-sebagaimana dikutip',\n",
       " '-sebagaimana dirinya-',\n",
       " '-sebagaimana diterima',\n",
       " '-sebagaimana soewondo',\n",
       " '-sebagian',\n",
       " '-sebagian lautan',\n",
       " '-sebagian terbesar',\n",
       " '-sebelum',\n",
       " '-sebelum dituangkan',\n",
       " '-sebelum suaminya',\n",
       " '-sebesar',\n",
       " '-sebesar 5',\n",
       " '-sebuah',\n",
       " '-sebuah barometer',\n",
       " '-sebuah konsentrasi',\n",
       " '-sebuah perjalanan',\n",
       " '-sebut',\n",
       " '-sebut begitu-',\n",
       " '-secara',\n",
       " '-secara finansial',\n",
       " '-secara terbuka',\n",
       " '-sejenis',\n",
       " '-sejenis tanaman',\n",
       " '-sekarang',\n",
       " '-sekarang badan',\n",
       " '-sekitar',\n",
       " '-sekitar 35',\n",
       " '-sekitar 60',\n",
       " '-sekitar 8',\n",
       " '-sekitar september',\n",
       " '-selain',\n",
       " '-selain alberto',\n",
       " '-selama',\n",
       " '-selama presiden',\n",
       " '-semacam',\n",
       " '-semacam bank',\n",
       " '-semuanya',\n",
       " '-semuanya 120',\n",
       " '-seorang',\n",
       " '-seorang relawan',\n",
       " '-seperti',\n",
       " '-seperti coca',\n",
       " '-seperti daun',\n",
       " '-seperti juli',\n",
       " '-seperti nyi',\n",
       " '-seperti singapura-',\n",
       " '-serta',\n",
       " '-serta dedi',\n",
       " '-sesuai',\n",
       " '-sesuai hasil',\n",
       " '-sesuai misi',\n",
       " '-sesuatu',\n",
       " '-sesuatu ahli',\n",
       " '-sesudah',\n",
       " '-sesudah penguasa',\n",
       " '-setelah',\n",
       " '-setelah berbicara',\n",
       " '-setelah laporan',\n",
       " '-setelah memainkan',\n",
       " '-setelah persetujuan',\n",
       " '-setelah presiden',\n",
       " '-setelah temuan',\n",
       " '-setelah urusan',\n",
       " '-setidaknya',\n",
       " '-setidaknya mendatang-',\n",
       " '-setingkat',\n",
       " '-setingkat perdana',\n",
       " '-shiwa',\n",
       " '-shiwa dewa',\n",
       " '-sisa',\n",
       " '-sisa jabatan',\n",
       " '-skenario',\n",
       " '-skenario dinilai',\n",
       " '-subang',\n",
       " '-subang jalur',\n",
       " '-sudah',\n",
       " '-sudah diubah',\n",
       " '-surge',\n",
       " '-surge istilah',\n",
       " '-swasta',\n",
       " '-swasta kelurahan-',\n",
       " '-syukur',\n",
       " '-syukur tuhan-',\n",
       " '-tampaknya',\n",
       " '-tampaknya luput',\n",
       " '-tamsil',\n",
       " '-tamsil linrung',\n",
       " '-taruhlah',\n",
       " '-taruhlah menunaikan',\n",
       " '-teman',\n",
       " '-teman kerjanya-menyatakan',\n",
       " '-tentu',\n",
       " '-tentu kekhasannya',\n",
       " '-terdiri',\n",
       " '-terdiri kredit',\n",
       " '-terdiri newbridge',\n",
       " '-terdiri pesawat',\n",
       " '-terketat',\n",
       " '-terketat seabad',\n",
       " '-terletak',\n",
       " '-terletak 60',\n",
       " '-termasuk',\n",
       " '-termasuk bahasa',\n",
       " '-termasuk jakarta',\n",
       " '-termasuk karyawan',\n",
       " '-termasuk kondektur',\n",
       " '-termasuk mahasiswa-',\n",
       " '-termasuk menunaikan',\n",
       " '-termasuk pendanaan-',\n",
       " '-termasuk penembak',\n",
       " '-termasuk sekutu',\n",
       " '-termasuk sultan',\n",
       " '-termasuk swasta-',\n",
       " '-ternyata',\n",
       " '-ternyata harapan',\n",
       " '-tersangka',\n",
       " '-tersangka pembawa',\n",
       " '-terutama',\n",
       " '-terutama aparat',\n",
       " '-terutama jangka',\n",
       " '-terutama kejaksaan',\n",
       " '-terutama menghadapi',\n",
       " '-terutama situasi',\n",
       " '-tetapi',\n",
       " '-tetapi bersamaan',\n",
       " '-tidak',\n",
       " '-tidak acceptable',\n",
       " '-tidak imajiner-',\n",
       " '-tidak jeng',\n",
       " '-tinggi',\n",
       " '-tinggi sembilan',\n",
       " '-tugas',\n",
       " '-tugas presiden',\n",
       " '-ulama',\n",
       " '-ulama dituakan',\n",
       " '-universitas',\n",
       " '-universitas indonesia',\n",
       " '-untuk',\n",
       " '-untuk memperingati',\n",
       " '-untuk mencopot',\n",
       " '-uud',\n",
       " '-uud 1945',\n",
       " '-waktu',\n",
       " '-waktu presiden-',\n",
       " '-walaupun',\n",
       " '-walaupun dijamin-',\n",
       " '-walaupun kapal',\n",
       " '-widodo',\n",
       " '-widodo negeri',\n",
       " '-yakni',\n",
       " '-yakni hidup',\n",
       " '-yang',\n",
       " '-yang abadia',\n",
       " '-yang ajang',\n",
       " '-yang anggota',\n",
       " '-yang bahan',\n",
       " '-yang bangun',\n",
       " '-yang bantuan',\n",
       " '-yang baru-',\n",
       " '-yang berkedudukan',\n",
       " '-yang berkunjung',\n",
       " '-yang bertikai-untuk',\n",
       " '-yang bertugas',\n",
       " '-yang bi',\n",
       " '-yang bus',\n",
       " '-yang didukung',\n",
       " '-yang diikuti',\n",
       " '-yang dimuat',\n",
       " '-yang dirawat',\n",
       " '-yang disebut-sebut',\n",
       " '-yang disusun',\n",
       " '-yang diutus',\n",
       " '-yang gunakan-',\n",
       " '-yang kalah',\n",
       " '-yang kebutuhan',\n",
       " '-yang melintasi',\n",
       " '-yang menerima',\n",
       " '-yang menghanguskan',\n",
       " '-yang meninggal',\n",
       " '-yang menyebut-',\n",
       " '-yang pemerintah',\n",
       " '-yang realisasinya',\n",
       " '-yang rentan',\n",
       " '-yang salah',\n",
       " '-yang selasa',\n",
       " '-yang sophan',\n",
       " '-yang tercatat',\n",
       " '-yang terpilih',\n",
       " '-yang tokushima',\n",
       " '-yazeed',\n",
       " '-yazeed djamin',\n",
       " '-yogyakarta-jakarta',\n",
       " '-yogyakarta-jakarta mendarat',\n",
       " '-yogyakarta-jakarta mengalami',\n",
       " '-yogyakarta-jakarta nomor',\n",
       " '-yogyakarta-jakarta pintu',\n",
       " '..',\n",
       " '.. ``',\n",
       " '.. dikemukakan',\n",
       " '.. mentransfer',\n",
       " '.. ndak',\n",
       " '...',\n",
       " '... .return',\n",
       " '... 1',\n",
       " '... 1993',\n",
       " '... 22.41',\n",
       " '... ``',\n",
       " '... a',\n",
       " '... aduh',\n",
       " '... allahu',\n",
       " '... alya',\n",
       " '... angka',\n",
       " '... australia',\n",
       " '... balkist',\n",
       " '... banjir',\n",
       " '... barak',\n",
       " '... baru-baru',\n",
       " '... bencana',\n",
       " '... berasal',\n",
       " '... berkisah',\n",
       " '... bersifat',\n",
       " '... bibir',\n",
       " '... bidang',\n",
       " '... bilang',\n",
       " '... binatang-binatang',\n",
       " '... bla-bla-bla',\n",
       " '... bu',\n",
       " '... bubarkan',\n",
       " '... bukti',\n",
       " '... buloggate',\n",
       " '... bunuh',\n",
       " ...]"
      ]
     },
     "execution_count": 31,
     "metadata": {},
     "output_type": "execute_result"
    }
   ],
   "source": [
    "vocab = tfidf.get_feature_names()\n",
    "vocab"
   ]
  },
  {
   "cell_type": "code",
   "execution_count": 32,
   "id": "4bef080f",
   "metadata": {},
   "outputs": [
    {
     "data": {
      "text/plain": [
       "[\"'45\",\n",
       " \"'45 ``\",\n",
       " \"'45 dasar\",\n",
       " \"'45 hasilkan\",\n",
       " \"'45 indonesia\",\n",
       " \"'45 menolak\",\n",
       " \"'45 menyaksikan\",\n",
       " \"'45 presiden\",\n",
       " \"'45 surono\",\n",
       " \"'ada\"]"
      ]
     },
     "execution_count": 32,
     "metadata": {},
     "output_type": "execute_result"
    }
   ],
   "source": [
    "#10 karaketer pertama\n",
    "\n",
    "vocab[:10]"
   ]
  },
  {
   "cell_type": "code",
   "execution_count": 33,
   "id": "d6e7d294",
   "metadata": {},
   "outputs": [
    {
     "data": {
      "text/plain": [
       "['zuniga memilih',\n",
       " 'zunnatul',\n",
       " 'zunnatul mafruhah',\n",
       " 'zurich',\n",
       " 'zurich northholt',\n",
       " 'zw',\n",
       " 'zw suparman',\n",
       " 'zw tim',\n",
       " 'zx',\n",
       " 'zx diserbu']"
      ]
     },
     "execution_count": 33,
     "metadata": {},
     "output_type": "execute_result"
    }
   ],
   "source": [
    "#10 karater terakhir\n",
    "\n",
    "vocab[-10:]"
   ]
  },
  {
   "cell_type": "code",
   "execution_count": 34,
   "id": "0fbb634e",
   "metadata": {},
   "outputs": [
    {
     "data": {
      "text/plain": [
       "array([     0, 363122, 363121, ..., 383482, 433548, 167179], dtype=int64)"
      ]
     },
     "execution_count": 34,
     "metadata": {},
     "output_type": "execute_result"
    }
   ],
   "source": [
    "#Menyortir nilai matrix dari yang terkecil hingga terbesar\n",
    "\n",
    "sorted_tfidf = tfidf_matrix[0].toarray()[0].argsort()\n",
    "sorted_tfidf"
   ]
  },
  {
   "cell_type": "markdown",
   "id": "cd2e5a6b",
   "metadata": {},
   "source": [
    "### Create a function"
   ]
  },
  {
   "cell_type": "code",
   "execution_count": 35,
   "id": "88ef4b42",
   "metadata": {},
   "outputs": [],
   "source": [
    "def extract_keywords_tfidf(doc, tfidf, topk=10): \n",
    "    matrix = tfidf.transform([doc])\n",
    "    vocab = tfidf.get_feature_names()\n",
    "    \n",
    "    sorted_tfidf = matrix[0].toarray()[0].argsort()\n",
    "    return [vocab[idx] for idx in reversed (sorted_tfidf[-topk:])]"
   ]
  },
  {
   "cell_type": "markdown",
   "id": "25ba6cd3",
   "metadata": {},
   "source": [
    "### Try with new document\n",
    "Source of news: https://tirto.id/f7qD"
   ]
  },
  {
   "cell_type": "code",
   "execution_count": 36,
   "id": "c65c8ebc",
   "metadata": {},
   "outputs": [],
   "source": [
    "text = \"\"\"\n",
    "Setelah dihantam badai krisis moneter 1997/1998, ekonomi Indonesia butuh sekitar enam tahun untuk pulih. Dalam hal keluar dari krisis, Indonesia bisa disebut tertinggal dibandingkan dengan negara-negara lain yang mengalami nasib serupa. \n",
    "Mereka umumnya hanya butuh dua tahun untuk pemulihan ekonomi. Politik membuat proses pemulihan ekonomi lebih sulit dan kompleks. Pada tahun 2004, ekonomi Indonesia akhirnya bisa kembali tumbuh 5%. \n",
    "Setelah itu, pertumbuhan ekonomi Indonesia secara perlahan merayap naik. Booming harga komoditas ikut mendorong perekonomian Indonesia. \n",
    "Harga-harga komoditas ekspor utama Indonesia seperti minyak sawit, batu bara, tembaga, dan karet ikut terkerek. \n",
    "Berkat booming ini, neraca perdagangan Indonesia mengalami surplus. Pada saat bersamaan, harga minyak mentah dunia juga ikut dalam tren kenaikan.\n",
    "Menurut data Energy Information Administration (EIA), harga minyak WTI yang pada era 1990-an hanya di kisaran 20 dolar AS per barel, meningkat menjadi rata-rata 31 dolar AS per barel pada 2003.\n",
    "Pada 2005, harga minyak mentah WTI rata-rata ada di kisaran 57 dolar AS per barel, dan meningkat lagi menjadi 66 dolar AS per barel pada 2006.\n",
    "Pada 2007, harga minyak WTI sudah ada di kisaran 85 dolar AS per barel. Menurut EIA, kenaikan harga minyak terutama dipicu peningkatan permintaan akibat kuatnya laju pertumbuhan ekonomi.\n",
    "Pada 2006, permintaan minyak dunia meningkat hingga 1,1 juta barel per hari. Dari sisi suplai, OPEC justru memutuskan untuk memangkas produksinya.\n",
    "Sementara produksi dari non-OPEC tidak bisa menyamai level peningkatan konsumsi. Kenaikan harga minyak mentah dunia itu secara otomatis meningkatkan subsidi BBM. \n",
    "Pada saat itu, hampir 20% dari belanja APBN dihabiskan untuk subsidi BBM. Sebagian besar subsidi BBM itu diketahui tidak tepat sasaran. \n",
    "Pemerintahan Susilo Bambang Yudhoyono akhirnya memutuskan untuk menaikkan harga BBM dua kali yakni pada Maret dan Oktober 2005 untuk mengurangi tekanan pada APBN. \n",
    "Pada Maret, harga bensin premium naik 33%, solar 27%. Sementara pada Oktober, kenaikannya lebih besar yakni 88% untuk jenis premium dan 105% untuk solar.\n",
    "Kenaikan harga BBM itu disambut oleh aksi demonstrasi di berbagai wilayah di Indonesia. Kenaikan harga minyak terus berlanjut, puncaknya terjadi pada kuartal kedua 2008, saat harga minyak melonjak menembus 120 dolar AS per barel. \n",
    "Pemerintah akhirnya kembali menaikkan harga BBM pada Mei 2008 yakni 33% untuk premium dan 28% untuk solar. Di tengah tekanan akibat lonjakan harga minyak, ekonomi mendapatkan pukulan dari krisis finansial global. \n",
    "Kali ini, episentrumnya adalah Amerika Serikat. Krisis Subprime Mortgage Tanda-tanda krisis finansial mulai muncul pada Agustus 2007, saat BNP Paribas membekukan pendanaannya.\n",
    "Dilansir dari The Guardian, kondisi BNP Paribas itu mengindikasikan mereka tidak memiliki cara untuk menilai aset-aset mereka yang kompleks yang dikenal sebagai collateralised debt obligations (CDOs). \n",
    "Setelah itu, satu per satu institusi finansial atau perbankan yang punya eksposur subprime mortgage terungkap mengalami kesulitan finansial. Puncaknya, pada 15 September 2008, Lehman Brothers mendaftarkan kebangkrutannya, menyusul kegagalan di pasar subprime mortgage. \n",
    "Kebangkrutan merupakan opsi terakhir setelah Bank of America dan Barclays menarik diri dari negosiasi untuk mengambil alih salah satu bank investasi tertua di Amerika Serikat tersebut. \n",
    "Lehman diketahui sudah mengalami kerugian hingga 60 miliar dolar AS akibat eksposur di pasar subprime mortgage. Pasar finansial dunia langsung dilanda kepanikan. \n",
    "Pada hari itu, indeks Dow Jones ditutup merosot hingga 504,48 poin atau 4,4% ke level 10917,51. Ini merupakan penurunan terburuk sejak peristiwa 9/11. \n",
    "S&P 500 anjlok 4,7% dan Nasdaq anjlok 3,6%. Harga minyak ikut terdampak dan turun di bawah 100 dolar AS per barel yakni ke level 95,71 dolar AS per barel. \n",
    "Sementara emas sebagai safe haven langsung melonjak 22,50 dolar ke level 787 dolar per ons. Menyusul Lehman, dua bank investasi lainnya yakni Bear Sterns dan Merril Lynch harus diambil alih oleh bank lain. \n",
    "Sementara Morgan Stanley dan Goldman Sachs beralih dari bank investasi menjadi bank komersial. Krisis subprime mortgage terjadi akibat pecahnya gelembung industri properti yang terjadi di AS. \n",
    "Jauh sebelum krisis ini terjadi, pada akhir era 1990-an, Amerika Serikat menjadi tempat tujuan dana-dana asing. Likuiditas berlimpah hingga akhirnya menekan tingkat suku bunga.\n",
    "Rezim suku bunga rendah berlaku di AS mulai awal tahun 2000-an. Kredit menjadi bergairah. Dalam kondisi suku bunga rendah, investor berbondong-bondong mencari aset-aset yang mampu memberikan imbal hasil tinggi, termasuk pada aset-aset berisiko tinggi seperti produk derivatif.\n",
    "Bank-bank pun menjadi semakin “kreatif” melahirkan produk-produk finansial yang rumit dalam bentuk produk derivatif. Produk-produk derivatif dengan menggunakan Kredit Pemilikan Rumah (KPR) sebagai underlying asset terus bermunculan.\n",
    "Produk-produk ini diciptakan untuk mengalihkan risiko kredit dari KPR. Bibit-bibit krisis muncul karena perbankan di AS tidak selektif dalam memberikan kredit, termasuk kepada nasabah yang memiliki profil risiko tinggi atau dikenal dengan subprime mortgage.\n",
    "Debitur-debitur ini umumnya tidak memenuhi syarat untuk mendapatkan kredit prime mortgage ataupun Alt-A mortgage, karena tingginya risiko yang dilihat dari penghasilan, sejarah kredit, dan kelengkapan dokumen. \n",
    "Debitur subprime mortgage umumnya dikenakan biaya administrasi dan suku bunga yang lebih tinggi dibandingkan debitur prime mortgage. Bank tergiur karena akan mendapatkan imbal hasil yang lebih tinggi, meski risikonya lebih besar. \n",
    "Kredit subprime mortgage juga gencar diberikan dengan keyakinan bahwa harga properti akan terus meningkat, sehingga nilai agunan semakin bertambah. Bank kemudian “berinovasi” melakukan sekuritisasi atas KPR. \n",
    "Produk hasil sekuritisasi ini disebut Mortgage Backed Securities (MBS) dan Collaterelized Debt Obligations (CDOs). Gagal bayar mulai terjadi ketika suku bunga The Fed dinaikkan dari kisaran 1-2% menjadi 5% pada 2007. \n",
    "Suku bunga mulai meningkat sejak tahun 2005, sejalan dengan kenaikan harga minyak mentah dunia yang memicu inflasi. Akibatnya, cicilan yang harus dibayar para peminjam juga mengalami kenaikan. \n",
    "Ditambah lagi, nilai agunan semakin turun akibat jatuhnya harga properti. Gagal bayar nasabah subprime mortgage ini menimbulkan efek domino. Institusi finansial dan perbankan sebagai kreditur mulai mengalami kesulitan likuiditas. \n",
    "Hal itu menyebabkan mereka tidak bisa memenuhi kewajibannya atas surat utang yang sudah diterbitkan dengan underlying asset KPR tersebut. Dampak selanjutnya, para investor yang memegang surat utang hasil sekuritisasi ikut mengalami kesulitan finansial. \n",
    "Hal itu menyebabkan para investor kesulitan untuk melakukan ekspansi usahanya. Pada akhirnya, hal itu merembet ke perekonomian sehingga menyebabkan kontraksi ekonomi di AS. \n",
    "Krisis subprime mortgage sangat cepat menyebar hingga lintas sektoral dan lintas negara. Ini dikarenakan para pemegang MBS tersebar luas ke berbagai belahan dunia.\n",
    "Satu per satu akhirnya mulai mengalami kesulitan, dan harus mendapatkan talangan agar tidak kolaps. Krisis finansial 2008 merupakan krisis terburuk sejak Depresi Besar.\n",
    "Pasar saham AS anjlok, dengan nilai pasar yang tersapu akibat krisis mencapai 8 triliun dolar AS selama periode 2007-2009. Krisis juga menyebabkan pengangguran melonjak mencapai 10% pada Oktober 2009, menurut Washington Post.\n",
    "\"\"\"\n",
    "    "
   ]
  },
  {
   "cell_type": "code",
   "execution_count": 37,
   "id": "2e9b1665",
   "metadata": {},
   "outputs": [
    {
     "data": {
      "text/plain": [
       "['dolar',\n",
       " 'dolar as',\n",
       " 'harga minyak',\n",
       " 'harga',\n",
       " 'finansial',\n",
       " 'minyak',\n",
       " 'krisis',\n",
       " 'as',\n",
       " 'kpr',\n",
       " 'kredit']"
      ]
     },
     "execution_count": 37,
     "metadata": {},
     "output_type": "execute_result"
    }
   ],
   "source": [
    "extract_keywords_tfidf(text, tfidf, topk=10)"
   ]
  }
 ],
 "metadata": {
  "kernelspec": {
   "display_name": "Python 3 (ipykernel)",
   "language": "python",
   "name": "python3"
  },
  "language_info": {
   "codemirror_mode": {
    "name": "ipython",
    "version": 3
   },
   "file_extension": ".py",
   "mimetype": "text/x-python",
   "name": "python",
   "nbconvert_exporter": "python",
   "pygments_lexer": "ipython3",
   "version": "3.8.12"
  },
  "varInspector": {
   "cols": {
    "lenName": 16,
    "lenType": 16,
    "lenVar": 40
   },
   "kernels_config": {
    "python": {
     "delete_cmd_postfix": "",
     "delete_cmd_prefix": "del ",
     "library": "var_list.py",
     "varRefreshCmd": "print(var_dic_list())"
    },
    "r": {
     "delete_cmd_postfix": ") ",
     "delete_cmd_prefix": "rm(",
     "library": "var_list.r",
     "varRefreshCmd": "cat(var_dic_list()) "
    }
   },
   "types_to_exclude": [
    "module",
    "function",
    "builtin_function_or_method",
    "instance",
    "_Feature"
   ],
   "window_display": false
  }
 },
 "nbformat": 4,
 "nbformat_minor": 5
}
